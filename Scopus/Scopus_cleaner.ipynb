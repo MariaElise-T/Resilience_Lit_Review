{
 "cells": [
  {
   "cell_type": "code",
   "execution_count": 2,
   "id": "1dd25537",
   "metadata": {},
   "outputs": [],
   "source": [
    "from bs4 import BeautifulSoup\n",
    "from langdetect import detect\n",
    "import json\n",
    "import os"
   ]
  },
  {
   "cell_type": "code",
   "execution_count": 2,
   "id": "40c70667",
   "metadata": {},
   "outputs": [],
   "source": [
    "f = open('/Users/maria/Desktop/SCOPUS_api_search/scopus_1.json')\n",
    "data = json.load(f)"
   ]
  },
  {
   "cell_type": "code",
   "execution_count": 5,
   "id": "a26c3ca7",
   "metadata": {},
   "outputs": [
    {
     "data": {
      "text/plain": [
       "'Dysfunctional fear responses in post-traumatic stress disorder (PTSD) may be partly explained by an inability to effectively extinguish fear responses elicited by trauma-related cues. However, only a subset of individuals exposed to traumatic stress develop PTSD. Therefore, studying fear extinction deficits in animal models of individual differences could help identify neural substrates underlying vulnerability or resilience to the effects of stress. We used a rat model of social defeat in which rats segregate into passively and actively coping rats. In previous work, we showed that passively coping rats exhibit disruptions in social interaction whereas actively coping rats do not display behaviors differently from controls, indicating their resilience. Here, adult male rats exposed to 7\\xa0days of social defeat were tested for fear extinction, retention of extinction, and persistence of retention using contextual fear and ethologically-relevant fear tests. Passively coping rats exhibited elevated freezing in response to the previously extinguished context. Analyses of cFos expressing cells across select brain regions showed high correlations within dorsal hippocampal subregions, while passively coping rats had high correlations between the dorsal hippocampus CA1 and the central and basolateral subregions of the amygdala. Importantly, although control and actively coping rats showed similar levels of behavioral extinction, there was little similarity between activated structures, suggesting stress resilience in response to chronic social defeat involves an adaptive differential recruitment of brain circuits to successfully extinguish fear memories.'"
      ]
     },
     "execution_count": 5,
     "metadata": {},
     "output_type": "execute_result"
    }
   ],
   "source": [
    "data[\"search-results\"][\"entry\"][0][\"dc:description\"]"
   ]
  },
  {
   "cell_type": "code",
   "execution_count": 4,
   "id": "ca78e3d5",
   "metadata": {},
   "outputs": [],
   "source": [
    "scopus_merged = list()\n",
    "i=1\n",
    "while(i<3290):\n",
    "    filename='/Users/maria/Desktop/SCOPUS_api_search/scopus_'+str(i)+'.json'\n",
    "    f = open(filename)\n",
    "    data = json.load(f)\n",
    "    scopus_merged = scopus_merged + data['search-results']['entry']\n",
    "    i=i+1"
   ]
  },
  {
   "cell_type": "code",
   "execution_count": 5,
   "id": "53d1ff05",
   "metadata": {},
   "outputs": [
    {
     "data": {
      "text/plain": [
       "82221"
      ]
     },
     "execution_count": 5,
     "metadata": {},
     "output_type": "execute_result"
    }
   ],
   "source": [
    "len(scopus_merged)"
   ]
  },
  {
   "cell_type": "code",
   "execution_count": 7,
   "id": "97aa9a32",
   "metadata": {},
   "outputs": [
    {
     "data": {
      "text/plain": [
       "'Dysfunctional fear responses in post-traumatic stress disorder (PTSD) may be partly explained by an inability to effectively extinguish fear responses elicited by trauma-related cues. However, only a subset of individuals exposed to traumatic stress develop PTSD. Therefore, studying fear extinction deficits in animal models of individual differences could help identify neural substrates underlying vulnerability or resilience to the effects of stress. We used a rat model of social defeat in which rats segregate into passively and actively coping rats. In previous work, we showed that passively coping rats exhibit disruptions in social interaction whereas actively coping rats do not display behaviors differently from controls, indicating their resilience. Here, adult male rats exposed to 7\\xa0days of social defeat were tested for fear extinction, retention of extinction, and persistence of retention using contextual fear and ethologically-relevant fear tests. Passively coping rats exhibited elevated freezing in response to the previously extinguished context. Analyses of cFos expressing cells across select brain regions showed high correlations within dorsal hippocampal subregions, while passively coping rats had high correlations between the dorsal hippocampus CA1 and the central and basolateral subregions of the amygdala. Importantly, although control and actively coping rats showed similar levels of behavioral extinction, there was little similarity between activated structures, suggesting stress resilience in response to chronic social defeat involves an adaptive differential recruitment of brain circuits to successfully extinguish fear memories.'"
      ]
     },
     "execution_count": 7,
     "metadata": {},
     "output_type": "execute_result"
    }
   ],
   "source": [
    "scopus_merged[0][\"dc:description\"]"
   ]
  },
  {
   "cell_type": "code",
   "execution_count": 26,
   "id": "85812ce5",
   "metadata": {},
   "outputs": [
    {
     "data": {
      "text/plain": [
       "'Water utilities collect information from various sources to gain continuous insights into the state of drinking water systems. Among the available data types, service problems that customers report are critical sources of information—especially during emergencies—which allow utilities to gage the impact of system operations on the resulting level of service. While some utilities increasingly collect and analyze customer reporting data to track key performance indicators (e.g., total complaints, response times), this information remains largely underutilized in research and practice. Further, little is known about spatial variations in the quantity or types of problems reported, which can indicate disparities in level of service and customer engagement. Here, we identify and compare spatial patterns in customer reporting against technical system performance and evaluate how trends change during emergency events (e.g., natural disasters). Our analysis demonstrates tightly coupled sociotechnical interdependencies between end user populations and drinking water systems. For instance, results reveal the prevalence of service problems in certain areas and show that several sociodemographic characteristics were statistically different in areas with higher or lower reporting levels. Finally, we offer recommendations for incorporating customer data into operational decision making and outreach efforts.'"
      ]
     },
     "execution_count": 26,
     "metadata": {},
     "output_type": "execute_result"
    }
   ],
   "source": [
    "i=0\n",
    "while(i < 82222):\n",
    "    scopus_merged[i][\"dc:description\"]"
   ]
  },
  {
   "cell_type": "code",
   "execution_count": 34,
   "id": "23e5f13e",
   "metadata": {},
   "outputs": [
    {
     "name": "stdout",
     "output_type": "stream",
     "text": [
      "1\n",
      "2\n",
      "3\n",
      "4\n",
      "5\n",
      "6\n",
      "7\n",
      "8\n",
      "9\n",
      "10\n",
      "11\n",
      "12\n",
      "13\n",
      "14\n",
      "15\n",
      "16\n",
      "17\n",
      "18\n",
      "19\n",
      "20\n",
      "21\n",
      "22\n",
      "23\n",
      "24\n",
      "25\n",
      "26\n",
      "27\n",
      "28\n",
      "29\n",
      "30\n",
      "31\n",
      "32\n",
      "33\n",
      "34\n",
      "35\n",
      "36\n",
      "37\n",
      "38\n",
      "39\n",
      "40\n",
      "41\n",
      "42\n",
      "43\n",
      "44\n",
      "45\n",
      "46\n",
      "47\n",
      "48\n",
      "49\n",
      "50\n",
      "51\n",
      "52\n",
      "53\n",
      "54\n",
      "55\n",
      "56\n",
      "57\n",
      "58\n"
     ]
    },
    {
     "ename": "KeyError",
     "evalue": "'dc:description'",
     "output_type": "error",
     "traceback": [
      "\u001b[0;31m---------------------------------------------------------------------------\u001b[0m",
      "\u001b[0;31mKeyError\u001b[0m                                  Traceback (most recent call last)",
      "Cell \u001b[0;32mIn[34], line 5\u001b[0m\n\u001b[1;32m      3\u001b[0m bank \u001b[38;5;241m=\u001b[39m \u001b[38;5;28mlist\u001b[39m()\n\u001b[1;32m      4\u001b[0m \u001b[38;5;28;01mfor\u001b[39;00m record \u001b[38;5;129;01min\u001b[39;00m data_small:\n\u001b[0;32m----> 5\u001b[0m     key \u001b[38;5;241m=\u001b[39m \u001b[38;5;28mstr\u001b[39m(\u001b[43mrecord\u001b[49m\u001b[43m[\u001b[49m\u001b[38;5;124;43m'\u001b[39;49m\u001b[38;5;124;43mdc:description\u001b[39;49m\u001b[38;5;124;43m'\u001b[39;49m\u001b[43m]\u001b[49m)\n\u001b[1;32m      6\u001b[0m     \u001b[38;5;28;01mif\u001b[39;00m(key \u001b[38;5;129;01min\u001b[39;00m bank):\n\u001b[1;32m      7\u001b[0m         data_small\u001b[38;5;241m.\u001b[39mremove(record)\n",
      "\u001b[0;31mKeyError\u001b[0m: 'dc:description'"
     ]
    }
   ],
   "source": [
    "data_small = scopus_merged\n",
    "count = 0\n",
    "bank = list()\n",
    "for record in data_small:\n",
    "    key = str(record['dc:description'])\n",
    "    if(key in bank):\n",
    "        data_small.remove(record)\n",
    "    else:\n",
    "        bank.append(key)\n",
    "    count = count+1\n",
    "    print(count)"
   ]
  },
  {
   "cell_type": "code",
   "execution_count": 36,
   "id": "2e321dd0",
   "metadata": {},
   "outputs": [
    {
     "data": {
      "text/plain": [
       "{'@_fa': 'true',\n",
       " 'affiliation': [{'@_fa': 'true',\n",
       "   'affiliation-city': 'Padua',\n",
       "   'affiliation-country': 'Italy',\n",
       "   'affiliation-url': 'https://api.elsevier.com/content/affiliation/affiliation_id/60000481',\n",
       "   'affilname': 'Università degli Studi di Padova',\n",
       "   'afid': '60000481'}],\n",
       " 'article-number': '104998',\n",
       " 'author': [{'@_fa': 'true',\n",
       "   '@seq': '1',\n",
       "   'afid': [{'$': '60000481', '@_fa': 'true'}],\n",
       "   'authid': '57214991043',\n",
       "   'authname': 'Peroni F.',\n",
       "   'author-url': 'https://api.elsevier.com/content/author/author_id/57214991043',\n",
       "   'given-name': 'Francesca',\n",
       "   'initials': 'F.',\n",
       "   'orcid': '0000-0003-2389-5612',\n",
       "   'surname': 'Peroni'},\n",
       "  {'@_fa': 'true',\n",
       "   '@seq': '2',\n",
       "   'afid': [{'$': '60000481', '@_fa': 'true'}],\n",
       "   'authid': '56044480500',\n",
       "   'authname': 'Pappalardo S.E.',\n",
       "   'author-url': 'https://api.elsevier.com/content/author/author_id/56044480500',\n",
       "   'given-name': 'Salvatore Eugenio',\n",
       "   'initials': 'S.E.',\n",
       "   'surname': 'Pappalardo'}],\n",
       " 'author-count': {'$': '2', '@limit': '100', '@total': '2'},\n",
       " 'citedby-count': '0',\n",
       " 'dc:creator': 'Peroni F.',\n",
       " 'dc:identifier': 'SCOPUS_ID:85182879968',\n",
       " 'dc:title': 'Climate justice in future cities: Geographical perspectives for inclusive urban resilience and adaptation',\n",
       " 'eid': '2-s2.0-85182879968',\n",
       " 'freetoread': {'value': [{'$': 'all'}, {'$': 'publisherhybridgold'}]},\n",
       " 'freetoreadLabel': {'value': [{'$': 'All Open Access'},\n",
       "   {'$': 'Hybrid Gold'}]},\n",
       " 'fund-no': 'undefined',\n",
       " 'link': [{'@_fa': 'true',\n",
       "   '@href': 'https://api.elsevier.com/content/abstract/scopus_id/85182879968',\n",
       "   '@ref': 'self'},\n",
       "  {'@_fa': 'true',\n",
       "   '@href': 'https://api.elsevier.com/content/abstract/scopus_id/85182879968?field=author,affiliation',\n",
       "   '@ref': 'author-affiliation'},\n",
       "  {'@_fa': 'true',\n",
       "   '@href': 'https://www.scopus.com/inward/record.uri?partnerID=HzOxMe3b&scp=85182879968&origin=inward',\n",
       "   '@ref': 'scopus'},\n",
       "  {'@_fa': 'true',\n",
       "   '@href': 'https://www.scopus.com/inward/citedby.uri?partnerID=HzOxMe3b&scp=85182879968&origin=inward',\n",
       "   '@ref': 'scopus-citedby'},\n",
       "  {'@_fa': 'true',\n",
       "   '@href': 'https://api.elsevier.com/content/article/eid/1-s2.0-S0169204623003171',\n",
       "   '@ref': 'full-text'}],\n",
       " 'openaccess': '1',\n",
       " 'openaccessFlag': True,\n",
       " 'pii': 'S0169204623003171',\n",
       " 'prism:aggregationType': 'Journal',\n",
       " 'prism:coverDate': '2024-04-01',\n",
       " 'prism:coverDisplayDate': 'April 2024',\n",
       " 'prism:doi': '10.1016/j.landurbplan.2023.104998',\n",
       " 'prism:issn': '01692046',\n",
       " 'prism:pageRange': None,\n",
       " 'prism:publicationName': 'Landscape and Urban Planning',\n",
       " 'prism:url': 'https://api.elsevier.com/content/abstract/scopus_id/85182879968',\n",
       " 'prism:volume': '244',\n",
       " 'source-id': '19041',\n",
       " 'subtype': 'ar',\n",
       " 'subtypeDescription': 'Article'}"
      ]
     },
     "execution_count": 36,
     "metadata": {},
     "output_type": "execute_result"
    }
   ],
   "source": [
    "data_small[58]"
   ]
  },
  {
   "cell_type": "code",
   "execution_count": null,
   "id": "6fe899ff",
   "metadata": {},
   "outputs": [],
   "source": []
  }
 ],
 "metadata": {
  "kernelspec": {
   "display_name": "Python 3 (ipykernel)",
   "language": "python",
   "name": "python3"
  },
  "language_info": {
   "codemirror_mode": {
    "name": "ipython",
    "version": 3
   },
   "file_extension": ".py",
   "mimetype": "text/x-python",
   "name": "python",
   "nbconvert_exporter": "python",
   "pygments_lexer": "ipython3",
   "version": "3.11.5"
  }
 },
 "nbformat": 4,
 "nbformat_minor": 5
}
