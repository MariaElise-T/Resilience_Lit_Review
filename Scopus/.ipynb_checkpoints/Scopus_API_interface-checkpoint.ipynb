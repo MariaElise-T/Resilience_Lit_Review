{
 "cells": [
  {
   "cell_type": "code",
   "execution_count": 1,
   "id": "a89b7373",
   "metadata": {},
   "outputs": [],
   "source": [
    "#https://kitchingroup.cheme.cmu.edu/blog/2015/04/03/Getting-data-from-the-Scopus-API/"
   ]
  },
  {
   "cell_type": "code",
   "execution_count": 3,
   "id": "16ce59a4",
   "metadata": {},
   "outputs": [],
   "source": [
    "import requests\n",
    "import json\n",
    "\n",
    "MY_API_KEY = '346e2d65ab4c7ef5217ca1de44cd06b3'"
   ]
  },
  {
   "cell_type": "code",
   "execution_count": 4,
   "id": "e633e8cb",
   "metadata": {},
   "outputs": [
    {
     "ename": "KeyError",
     "evalue": "'search-results'",
     "output_type": "error",
     "traceback": [
      "\u001b[0;31m---------------------------------------------------------------------------\u001b[0m",
      "\u001b[0;31mKeyError\u001b[0m                                  Traceback (most recent call last)",
      "Cell \u001b[0;32mIn[4], line 13\u001b[0m\n\u001b[1;32m      9\u001b[0m resp \u001b[38;5;241m=\u001b[39m requests\u001b[38;5;241m.\u001b[39mget(query,\n\u001b[1;32m     10\u001b[0m                 headers\u001b[38;5;241m=\u001b[39m{\u001b[38;5;124m'\u001b[39m\u001b[38;5;124mAccept\u001b[39m\u001b[38;5;124m'\u001b[39m:\u001b[38;5;124m'\u001b[39m\u001b[38;5;124mapplication/json\u001b[39m\u001b[38;5;124m'\u001b[39m,\n\u001b[1;32m     11\u001b[0m                          \u001b[38;5;124m'\u001b[39m\u001b[38;5;124mX-ELS-APIKey\u001b[39m\u001b[38;5;124m'\u001b[39m: MY_API_KEY})\n\u001b[1;32m     12\u001b[0m getcursor \u001b[38;5;241m=\u001b[39m resp\u001b[38;5;241m.\u001b[39mjson()\n\u001b[0;32m---> 13\u001b[0m query \u001b[38;5;241m=\u001b[39m \u001b[43mgetcursor\u001b[49m\u001b[43m[\u001b[49m\u001b[38;5;124;43m\"\u001b[39;49m\u001b[38;5;124;43msearch-results\u001b[39;49m\u001b[38;5;124;43m\"\u001b[39;49m\u001b[43m]\u001b[49m[\u001b[38;5;124m\"\u001b[39m\u001b[38;5;124mlink\u001b[39m\u001b[38;5;124m\"\u001b[39m][\u001b[38;5;241m2\u001b[39m][\u001b[38;5;124m\"\u001b[39m\u001b[38;5;124m@href\u001b[39m\u001b[38;5;124m\"\u001b[39m]\n\u001b[1;32m     14\u001b[0m result \u001b[38;5;241m=\u001b[39m json\u001b[38;5;241m.\u001b[39mdumps(resp\u001b[38;5;241m.\u001b[39mjson(),\n\u001b[1;32m     15\u001b[0m                  sort_keys\u001b[38;5;241m=\u001b[39m\u001b[38;5;28;01mTrue\u001b[39;00m,\n\u001b[1;32m     16\u001b[0m                  indent\u001b[38;5;241m=\u001b[39m\u001b[38;5;241m4\u001b[39m, separators\u001b[38;5;241m=\u001b[39m(\u001b[38;5;124m'\u001b[39m\u001b[38;5;124m,\u001b[39m\u001b[38;5;124m'\u001b[39m, \u001b[38;5;124m'\u001b[39m\u001b[38;5;124m: \u001b[39m\u001b[38;5;124m'\u001b[39m))\n\u001b[1;32m     17\u001b[0m i\u001b[38;5;241m=\u001b[39mi\u001b[38;5;241m+\u001b[39m\u001b[38;5;241m1\u001b[39m\n",
      "\u001b[0;31mKeyError\u001b[0m: 'search-results'"
     ]
    }
   ],
   "source": [
    "import os\n",
    "\n",
    "directory = \"/Users/maria/Desktop/SCOPUS_api_search\"\n",
    "os.chdir(directory)\n",
    "\n",
    "count = 25\n",
    "query = \"https://api.elsevier.com/content/search/scopus?query=title(resiliency OR resilient OR resilience)&view=COMPLETE&cursor=*&count=25\"\n",
    "while(count>0):\n",
    "    resp = requests.get(query,\n",
    "                    headers={'Accept':'application/json',\n",
    "                             'X-ELS-APIKey': MY_API_KEY})\n",
    "    getcursor = resp.json()\n",
    "    query = getcursor[\"search-results\"][\"link\"][2][\"@href\"]\n",
    "    result = json.dumps(resp.json(),\n",
    "                     sort_keys=True,\n",
    "                     indent=4, separators=(',', ': '))\n",
    "    i=i+1\n",
    "    filename = \"scopus_\"+str(i)+\".json\"\n",
    "    with open(filename, \"w\") as outfile:\n",
    "        outfile.write(result)\n",
    "    count = int(getcursor[\"search-results\"][\"opensearch:itemsPerPage\"])"
   ]
  },
  {
   "cell_type": "code",
   "execution_count": 5,
   "id": "0881ffa6",
   "metadata": {},
   "outputs": [],
   "source": [
    "query = \"https://api.elsevier.com/content/search/scopus?query=title(resiliency OR resilient OR resilience)&view=FULL&cursor=*&count=25\"\n",
    "resp = requests.get(query,\n",
    "                    headers={'Accept':'application/json',\n",
    "                             'X-ELS-APIKey': MY_API_KEY})"
   ]
  },
  {
   "cell_type": "code",
   "execution_count": 8,
   "id": "517f2198",
   "metadata": {},
   "outputs": [],
   "source": [
    "result = json.dumps(resp.json(),\n",
    "                     sort_keys=True,\n",
    "                     indent=4, separators=(',', ': '))"
   ]
  },
  {
   "cell_type": "code",
   "execution_count": 9,
   "id": "6f6a7f23",
   "metadata": {},
   "outputs": [
    {
     "data": {
      "text/plain": [
       "'{\\n    \"service-error\": {\\n        \"status\": {\\n            \"statusCode\": \"INVALID_INPUT\",\\n            \"statusText\": \"View parameter entered is not valid for this service\"\\n        }\\n    }\\n}'"
      ]
     },
     "execution_count": 9,
     "metadata": {},
     "output_type": "execute_result"
    }
   ],
   "source": [
    "result"
   ]
  },
  {
   "cell_type": "code",
   "execution_count": null,
   "id": "19da1940",
   "metadata": {},
   "outputs": [],
   "source": []
  }
 ],
 "metadata": {
  "kernelspec": {
   "display_name": "Python 3 (ipykernel)",
   "language": "python",
   "name": "python3"
  },
  "language_info": {
   "codemirror_mode": {
    "name": "ipython",
    "version": 3
   },
   "file_extension": ".py",
   "mimetype": "text/x-python",
   "name": "python",
   "nbconvert_exporter": "python",
   "pygments_lexer": "ipython3",
   "version": "3.10.9"
  }
 },
 "nbformat": 4,
 "nbformat_minor": 5
}
