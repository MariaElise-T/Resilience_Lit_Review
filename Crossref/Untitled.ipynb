{
 "cells": [
  {
   "cell_type": "code",
   "execution_count": 24,
   "id": "e09046b8-3ad8-42a7-b455-bb2783440989",
   "metadata": {},
   "outputs": [],
   "source": [
    "import json\n",
    "import csv"
   ]
  },
  {
   "cell_type": "code",
   "execution_count": 25,
   "id": "1a837c60-cf0f-4412-82dd-aae1e212bab6",
   "metadata": {},
   "outputs": [
    {
     "ename": "FileNotFoundError",
     "evalue": "[Errno 2] No such file or directory: 'D:\\\\crossref_has_abstract_cleaned.json'",
     "output_type": "error",
     "traceback": [
      "\u001b[1;31m---------------------------------------------------------------------------\u001b[0m",
      "\u001b[1;31mFileNotFoundError\u001b[0m                         Traceback (most recent call last)",
      "Cell \u001b[1;32mIn[25], line 1\u001b[0m\n\u001b[1;32m----> 1\u001b[0m f \u001b[38;5;241m=\u001b[39m \u001b[38;5;28mopen\u001b[39m(\u001b[38;5;124m'\u001b[39m\u001b[38;5;124mD:\u001b[39m\u001b[38;5;130;01m\\\\\u001b[39;00m\u001b[38;5;124mcrossref_has_abstract_cleaned.json\u001b[39m\u001b[38;5;124m'\u001b[39m)\n\u001b[0;32m      2\u001b[0m json_data \u001b[38;5;241m=\u001b[39m json\u001b[38;5;241m.\u001b[39mload(f)\n",
      "File \u001b[1;32m~\\AppData\\Local\\anaconda3\\Lib\\site-packages\\IPython\\core\\interactiveshell.py:310\u001b[0m, in \u001b[0;36m_modified_open\u001b[1;34m(file, *args, **kwargs)\u001b[0m\n\u001b[0;32m    303\u001b[0m \u001b[38;5;28;01mif\u001b[39;00m file \u001b[38;5;129;01min\u001b[39;00m {\u001b[38;5;241m0\u001b[39m, \u001b[38;5;241m1\u001b[39m, \u001b[38;5;241m2\u001b[39m}:\n\u001b[0;32m    304\u001b[0m     \u001b[38;5;28;01mraise\u001b[39;00m \u001b[38;5;167;01mValueError\u001b[39;00m(\n\u001b[0;32m    305\u001b[0m         \u001b[38;5;124mf\u001b[39m\u001b[38;5;124m\"\u001b[39m\u001b[38;5;124mIPython won\u001b[39m\u001b[38;5;124m'\u001b[39m\u001b[38;5;124mt let you open fd=\u001b[39m\u001b[38;5;132;01m{\u001b[39;00mfile\u001b[38;5;132;01m}\u001b[39;00m\u001b[38;5;124m by default \u001b[39m\u001b[38;5;124m\"\u001b[39m\n\u001b[0;32m    306\u001b[0m         \u001b[38;5;124m\"\u001b[39m\u001b[38;5;124mas it is likely to crash IPython. If you know what you are doing, \u001b[39m\u001b[38;5;124m\"\u001b[39m\n\u001b[0;32m    307\u001b[0m         \u001b[38;5;124m\"\u001b[39m\u001b[38;5;124myou can use builtins\u001b[39m\u001b[38;5;124m'\u001b[39m\u001b[38;5;124m open.\u001b[39m\u001b[38;5;124m\"\u001b[39m\n\u001b[0;32m    308\u001b[0m     )\n\u001b[1;32m--> 310\u001b[0m \u001b[38;5;28;01mreturn\u001b[39;00m io_open(file, \u001b[38;5;241m*\u001b[39margs, \u001b[38;5;241m*\u001b[39m\u001b[38;5;241m*\u001b[39mkwargs)\n",
      "\u001b[1;31mFileNotFoundError\u001b[0m: [Errno 2] No such file or directory: 'D:\\\\crossref_has_abstract_cleaned.json'"
     ]
    }
   ],
   "source": [
    "f = open('D:\\\\crossref_has_abstract_cleaned.json')\n",
    "json_data = json.load(f)"
   ]
  },
  {
   "cell_type": "code",
   "execution_count": 26,
   "id": "180184ec-e395-40b7-bbfb-752f455bae42",
   "metadata": {},
   "outputs": [],
   "source": [
    "f = open(\"crossref_dois_1970s.txt\", \"w\")\n",
    "for i in range(len(json_data)):\n",
    "    if json_data[i].get('published-print'):\n",
    "        year_published = json_data[i]['published-print']['date-parts'][0][0]\n",
    "    if json_data[i].get('published-online'):\n",
    "        year_online =  json_data[i]['published-online']['date-parts'][0][0]\n",
    "    DOI = json_data[i]['DOI']\n",
    "    year = min(year_published, year_online)\n",
    "    if year > 1970 and year <= 1980:\n",
    "        f.write(str(DOI)+\"\\n\")\n",
    "f.close()"
   ]
  },
  {
   "cell_type": "code",
   "execution_count": 27,
   "id": "984bc5a2-6a7a-47a3-b33f-7d8d02035830",
   "metadata": {},
   "outputs": [],
   "source": [
    "f = open(\"crossref_dois_1980s.txt\", \"w\")\n",
    "for i in range(len(json_data)):\n",
    "    if json_data[i].get('published-print'):\n",
    "        year_published = json_data[i]['published-print']['date-parts'][0][0]\n",
    "    if json_data[i].get('published-online'):\n",
    "        year_online =  json_data[i]['published-online']['date-parts'][0][0]\n",
    "    DOI = json_data[i]['DOI']\n",
    "    year = min(year_published, year_online)\n",
    "    if year > 1980 and year <= 1990:\n",
    "        f.write(str(DOI)+\"\\n\")\n",
    "f.close()"
   ]
  },
  {
   "cell_type": "code",
   "execution_count": 28,
   "id": "4f390d54-915a-4ab4-9286-e19b4599eac5",
   "metadata": {},
   "outputs": [],
   "source": [
    "f = open(\"crossref_dois_1990s.txt\", \"w\")\n",
    "for i in range(len(json_data)):\n",
    "    if json_data[i].get('published-print'):\n",
    "        year_published = json_data[i]['published-print']['date-parts'][0][0]\n",
    "    if json_data[i].get('published-online'):\n",
    "        year_online =  json_data[i]['published-online']['date-parts'][0][0]\n",
    "    DOI = json_data[i]['DOI']\n",
    "    year = min(year_published, year_online)\n",
    "    if year > 1990 and year <= 2000:\n",
    "        f.write(str(DOI)+\"\\n\")\n",
    "f.close()"
   ]
  },
  {
   "cell_type": "code",
   "execution_count": 29,
   "id": "e2e1bda2-438b-49df-a8e7-f4c8b54cd5de",
   "metadata": {},
   "outputs": [],
   "source": [
    "f = open(\"crossref_dois_2000s.txt\", \"w\")\n",
    "for i in range(len(json_data)):\n",
    "    if json_data[i].get('published-print'):\n",
    "        year_published = json_data[i]['published-print']['date-parts'][0][0]\n",
    "    if json_data[i].get('published-online'):\n",
    "        year_online =  json_data[i]['published-online']['date-parts'][0][0]\n",
    "    DOI = json_data[i]['DOI']\n",
    "    year = min(year_published, year_online)\n",
    "    if year > 2000 and year <= 2010:\n",
    "        f.write(str(DOI)+\"\\n\")\n",
    "f.close()"
   ]
  },
  {
   "cell_type": "code",
   "execution_count": 30,
   "id": "bb9f5131-34f7-4d32-9b53-6c9dea5e58de",
   "metadata": {},
   "outputs": [],
   "source": [
    "f = open(\"crossref_dois_2010s.txt\", \"w\")\n",
    "for i in range(len(json_data)):\n",
    "    if json_data[i].get('published-print'):\n",
    "        year_published = json_data[i]['published-print']['date-parts'][0][0]\n",
    "    if json_data[i].get('published-online'):\n",
    "        year_online =  json_data[i]['published-online']['date-parts'][0][0]\n",
    "    DOI = json_data[i]['DOI']\n",
    "    year = min(year_published, year_online)\n",
    "    if year > 2010 and year <= 2020:\n",
    "        f.write(str(DOI)+\"\\n\")\n",
    "f.close()"
   ]
  },
  {
   "cell_type": "code",
   "execution_count": 31,
   "id": "8671f1d4-c131-493a-8803-bcfd79d309af",
   "metadata": {},
   "outputs": [],
   "source": [
    "f = open(\"crossref_dois_2020s.txt\", \"w\")\n",
    "for i in range(len(json_data)):\n",
    "    if json_data[i].get('published-print'):\n",
    "        year_published = json_data[i]['published-print']['date-parts'][0][0]\n",
    "    if json_data[i].get('published-online'):\n",
    "        year_online =  json_data[i]['published-online']['date-parts'][0][0]\n",
    "    DOI = json_data[i]['DOI']\n",
    "    year = min(year_published, year_online)\n",
    "    if year > 2020 and year <= 2030:\n",
    "        f.write(str(DOI)+\"\\n\")\n",
    "f.close()"
   ]
  },
  {
   "cell_type": "code",
   "execution_count": 32,
   "id": "635a757a-8091-4521-8ab0-88855218efa4",
   "metadata": {},
   "outputs": [],
   "source": [
    "f = open(\"crossref_dois_alltime.txt\", \"w\")\n",
    "for i in range(len(json_data)):\n",
    "    if json_data[i].get('published-print'):\n",
    "        year_published = json_data[i]['published-print']['date-parts'][0][0]\n",
    "    if json_data[i].get('published-online'):\n",
    "        year_online =  json_data[i]['published-online']['date-parts'][0][0]\n",
    "    DOI = json_data[i]['DOI']\n",
    "    year = min(year_published, year_online)\n",
    "    if year > 1972:\n",
    "        f.write(str(DOI)+\"\\n\")\n",
    "f.close()"
   ]
  },
  {
   "cell_type": "code",
   "execution_count": null,
   "id": "f4e633ac-6e8b-41f5-823d-fa656ac39914",
   "metadata": {},
   "outputs": [],
   "source": []
  },
  {
   "cell_type": "code",
   "execution_count": null,
   "id": "2c5e6e21-abb2-454b-8002-c1b6571bf6d3",
   "metadata": {},
   "outputs": [],
   "source": []
  },
  {
   "cell_type": "code",
   "execution_count": null,
   "id": "e11ede83-7125-490d-8a1c-f7c5af416de8",
   "metadata": {},
   "outputs": [],
   "source": []
  }
 ],
 "metadata": {
  "kernelspec": {
   "display_name": "Python 3 (ipykernel)",
   "language": "python",
   "name": "python3"
  },
  "language_info": {
   "codemirror_mode": {
    "name": "ipython",
    "version": 3
   },
   "file_extension": ".py",
   "mimetype": "text/x-python",
   "name": "python",
   "nbconvert_exporter": "python",
   "pygments_lexer": "ipython3",
   "version": "3.11.5"
  }
 },
 "nbformat": 4,
 "nbformat_minor": 5
}
