{
 "cells": [
  {
   "cell_type": "code",
   "execution_count": 1,
   "id": "e09046b8-3ad8-42a7-b455-bb2783440989",
   "metadata": {},
   "outputs": [],
   "source": [
    "import json\n",
    "import csv"
   ]
  },
  {
   "cell_type": "code",
   "execution_count": 2,
   "id": "1a837c60-cf0f-4412-82dd-aae1e212bab6",
   "metadata": {},
   "outputs": [],
   "source": [
    "#f = open('D:\\\\crossref_has_abstract_cleaned.json')\n",
    "f = open('/Users/maria/Desktop/resilience_lit_review_archive/crossref_has_abstract_cleaned.json')\n",
    "json_data = json.load(f)"
   ]
  },
  {
   "cell_type": "code",
   "execution_count": 3,
   "id": "165ea700-b10a-4826-bad2-e87d8dcff546",
   "metadata": {},
   "outputs": [
    {
     "data": {
      "text/plain": [
       "24764"
      ]
     },
     "execution_count": 3,
     "metadata": {},
     "output_type": "execute_result"
    }
   ],
   "source": [
    "len(json_data)"
   ]
  },
  {
   "cell_type": "code",
   "execution_count": 6,
   "id": "2e069354-5bda-49c6-8fd7-d6305e2927e4",
   "metadata": {},
   "outputs": [
    {
     "name": "stdout",
     "output_type": "stream",
     "text": [
      "Pre-1973 total is: 32\n",
      "\n",
      "Pre-2000 total is: 215\n",
      "\n",
      "2000s total is: 858\n",
      "\n",
      "2010s total is: 6531\n",
      "\n",
      "2020s total is: 17128\n",
      "\n",
      "Total records sorted is: 24764\n",
      "\n"
     ]
    }
   ],
   "source": [
    "f_pre2000 = open(\"crossref_dois_pre2000s_publisheddate.txt\", \"w\")\n",
    "f_2000s = open(\"crossref_dois_2000s_publisheddate.txt\", \"w\")\n",
    "f_2010s = open(\"crossref_dois_2010s_publisheddate.txt\", \"w\")\n",
    "f_2020s = open(\"crossref_dois_2020s_publisheddate.txt\", \"w\")\n",
    "f_alltime = open(\"crossref_dois_alltime_publisheddate.txt\", \"w\")\n",
    "\n",
    "count_pre1973 = 0\n",
    "count_pre2000 = 0\n",
    "count_2000s = 0\n",
    "count_2010s = 0\n",
    "count_2020s = 0\n",
    "count_error = 0\n",
    "count_alltime = 0\n",
    "\n",
    "for i in range(len(json_data)):\n",
    "    DOI = json_data[i]['DOI']\n",
    "    year = json_data[i]['published']['date-parts'][0][0]\n",
    "    count_alltime+=1\n",
    "    f_alltime.write(str(DOI)+\"\\n\")\n",
    "    if year < 1973:\n",
    "        count_pre1973+=1\n",
    "    elif year >= 1973 and year < 2000:\n",
    "        count_pre2000+=1\n",
    "        f_pre2000.write(str(DOI)+\"\\n\")\n",
    "    elif year >= 2000 and year < 2010:\n",
    "        count_2000s+=1\n",
    "        f_2000s.write(str(DOI)+\"\\n\")\n",
    "    elif year >= 2010 and year < 2020:\n",
    "        count_2010s+=1\n",
    "        f_2010s.write(str(DOI)+\"\\n\")\n",
    "    elif year >= 2020:\n",
    "        count_2020s+=1\n",
    "        f_2020s.write(str(DOI)+\"\\n\")\n",
    "    else:\n",
    "        print(\"Date error at position \"+str(i)+\"\\n\")\n",
    "        count_error+=1\n",
    "        \n",
    "print(\"Pre-1973 total is: \"+str(count_pre1973)+\"\\n\")\n",
    "print(\"Pre-2000 total is: \"+str(count_pre2000)+\"\\n\")      \n",
    "print(\"2000s total is: \"+str(count_2000s)+\"\\n\")      \n",
    "print(\"2010s total is: \"+str(count_2010s)+\"\\n\")      \n",
    "print(\"2020s total is: \"+str(count_2020s)+\"\\n\")      \n",
    "print(\"Total records sorted is: \"+str(count_pre1973+count_pre2000+count_2000s+count_2010s+count_2020s+count_error)+\"\\n\")\n",
    "\n",
    "f_pre2000.close()\n",
    "f_2000s.close()\n",
    "f_2010s.close()\n",
    "f_2020s.close()\n",
    "f_alltime.close() "
   ]
  },
  {
   "cell_type": "code",
   "execution_count": 4,
   "id": "215ba39d-8a5f-4c94-a6ea-401fe64e7c6d",
   "metadata": {},
   "outputs": [],
   "source": [
    "for i in range(len(json_data)):\n",
    "    DOI = json_data[i]['DOI']\n",
    "    year = json_data[i]['published']['date-parts'][0][0]"
   ]
  },
  {
   "cell_type": "code",
   "execution_count": null,
   "id": "a34ae505-3b1a-4ccd-82ad-6801ff8ba269",
   "metadata": {},
   "outputs": [],
   "source": [
    "f_2000s = open(\"crossref_dois_pre2000s_publisheddate.txt\", \"w\")\n",
    "for i in range(len(json_data)):\n",
    "    if json_data[i].get('published-print'):\n",
    "        year_published = json_data[i]['published-print']['date-parts'][0][0]\n",
    "    if json_data[i].get('published-online'):\n",
    "        year_online =  json_data[i]['published-online']['date-parts'][0][0]\n",
    "    DOI = json_data[i]['DOI']\n",
    "    year = min(year_published, year_online)\n",
    "    if year < 2000:\n",
    "        f.write(str(DOI)+\"\\n\")\n",
    "f.close()"
   ]
  },
  {
   "cell_type": "code",
   "execution_count": 30,
   "id": "bb9f5131-34f7-4d32-9b53-6c9dea5e58de",
   "metadata": {},
   "outputs": [],
   "source": [
    "f_2010s = open(\"crossref_dois_2010s_publisheddate.txt\", \"w\")\n",
    "for i in range(len(json_data)):\n",
    "    if json_data[i].get('published-print'):\n",
    "        year_published = json_data[i]['published-print']['date-parts'][0][0]\n",
    "    if json_data[i].get('published-online'):\n",
    "        year_online =  json_data[i]['published-online']['date-parts'][0][0]\n",
    "    DOI = json_data[i]['DOI']\n",
    "    year = min(year_published, year_online)\n",
    "    if year > 2010 and year <= 2020:\n",
    "        f.write(str(DOI)+\"\\n\")\n",
    "f.close()"
   ]
  },
  {
   "cell_type": "code",
   "execution_count": 31,
   "id": "8671f1d4-c131-493a-8803-bcfd79d309af",
   "metadata": {},
   "outputs": [],
   "source": [
    "f_2020s = open(\"crossref_dois_2020s_publisheddate.txt\", \"w\")\n",
    "for i in range(len(json_data)):\n",
    "    if json_data[i].get('published-print'):\n",
    "        year_published = json_data[i]['published-print']['date-parts'][0][0]\n",
    "    if json_data[i].get('published-online'):\n",
    "        year_online =  json_data[i]['published-online']['date-parts'][0][0]\n",
    "    DOI = json_data[i]['DOI']\n",
    "    year = min(year_published, year_online)\n",
    "    if year > 2020 and year <= 2030:\n",
    "        f.write(str(DOI)+\"\\n\")\n",
    "f.close()"
   ]
  },
  {
   "cell_type": "code",
   "execution_count": 32,
   "id": "635a757a-8091-4521-8ab0-88855218efa4",
   "metadata": {},
   "outputs": [],
   "source": [
    "f = open(\"crossref_dois_alltime_publisheddate.txt\", \"w\")\n",
    "for i in range(len(json_data)):\n",
    "    if json_data[i].get('published-print'):\n",
    "        year_published = json_data[i]['published-print']['date-parts'][0][0]\n",
    "    if json_data[i].get('published-online'):\n",
    "        year_online =  json_data[i]['published-online']['date-parts'][0][0]\n",
    "    DOI = json_data[i]['DOI']\n",
    "    year = min(year_published, year_online)\n",
    "    if year > 1972:\n",
    "        f.write(str(DOI)+\"\\n\")\n",
    "f.close()"
   ]
  },
  {
   "cell_type": "code",
   "execution_count": null,
   "id": "f4e633ac-6e8b-41f5-823d-fa656ac39914",
   "metadata": {},
   "outputs": [],
   "source": []
  },
  {
   "cell_type": "code",
   "execution_count": null,
   "id": "2c5e6e21-abb2-454b-8002-c1b6571bf6d3",
   "metadata": {},
   "outputs": [],
   "source": []
  },
  {
   "cell_type": "code",
   "execution_count": null,
   "id": "e11ede83-7125-490d-8a1c-f7c5af416de8",
   "metadata": {},
   "outputs": [],
   "source": []
  },
  {
   "cell_type": "code",
   "execution_count": null,
   "id": "462999c3-2bc9-4cec-9076-0719261fe9c0",
   "metadata": {},
   "outputs": [],
   "source": []
  },
  {
   "cell_type": "code",
   "execution_count": 17,
   "id": "ca067447-3a4b-4f11-8120-8677aeedc009",
   "metadata": {},
   "outputs": [
    {
     "ename": "TypeError",
     "evalue": "'bool' object is not callable",
     "output_type": "error",
     "traceback": [
      "\u001b[1;31m---------------------------------------------------------------------------\u001b[0m",
      "\u001b[1;31mTypeError\u001b[0m                                 Traceback (most recent call last)",
      "Cell \u001b[1;32mIn[17], line 9\u001b[0m\n\u001b[0;32m      7\u001b[0m         count_2010s\u001b[38;5;241m+\u001b[39m\u001b[38;5;241m=\u001b[39m\u001b[38;5;241m1\u001b[39m\n\u001b[0;32m      8\u001b[0m         f_2010s\u001b[38;5;241m.\u001b[39mwrite(\u001b[38;5;28mstr\u001b[39m(title)\u001b[38;5;241m+\u001b[39m\u001b[38;5;124m\"\u001b[39m\u001b[38;5;130;01m\\n\u001b[39;00m\u001b[38;5;124m\"\u001b[39m)     \n\u001b[1;32m----> 9\u001b[0m f_2010s\u001b[38;5;241m.\u001b[39mclosed()\n",
      "\u001b[1;31mTypeError\u001b[0m: 'bool' object is not callable"
     ]
    }
   ],
   "source": [
    "f_2010s = open(\"crossref_dois_2010s_titles_publisheddate.txt\", \"w\", encoding=\"utf-8\")\n",
    "count_2010s=0\n",
    "for i in range(len(json_data)):\n",
    "    title = json_data[i]['title']\n",
    "    year = json_data[i]['published']['date-parts'][0][0]\n",
    "    if year >= 2010 and year < 2020:\n",
    "        count_2010s+=1\n",
    "        f_2010s.write(str(title)+\"\\n\")     \n",
    "f_2010s.closed()"
   ]
  },
  {
   "cell_type": "code",
   "execution_count": 18,
   "id": "da655130-01ce-44c8-b843-826e1c6f053e",
   "metadata": {},
   "outputs": [
    {
     "name": "stdout",
     "output_type": "stream",
     "text": [
      "6531\n"
     ]
    }
   ],
   "source": [
    "print(count_2010s)"
   ]
  },
  {
   "cell_type": "code",
   "execution_count": null,
   "id": "a90f70ac-3789-4363-a7f0-5bc845bd2e4f",
   "metadata": {},
   "outputs": [],
   "source": []
  }
 ],
 "metadata": {
  "kernelspec": {
   "display_name": "Python 3 (ipykernel)",
   "language": "python",
   "name": "python3"
  },
  "language_info": {
   "codemirror_mode": {
    "name": "ipython",
    "version": 3
   },
   "file_extension": ".py",
   "mimetype": "text/x-python",
   "name": "python",
   "nbconvert_exporter": "python",
   "pygments_lexer": "ipython3",
   "version": "3.10.9"
  }
 },
 "nbformat": 4,
 "nbformat_minor": 5
}
