{
 "cells": [
  {
   "cell_type": "code",
   "execution_count": 2,
   "id": "e09046b8-3ad8-42a7-b455-bb2783440989",
   "metadata": {},
   "outputs": [],
   "source": [
    "import json\n",
    "import csv"
   ]
  },
  {
   "cell_type": "code",
   "execution_count": 3,
   "id": "1a837c60-cf0f-4412-82dd-aae1e212bab6",
   "metadata": {},
   "outputs": [],
   "source": [
    "f = open('D:\\\\crossref_has_abstract_cleaned.json')\n",
    "json_data = json.load(f)"
   ]
  },
  {
   "cell_type": "code",
   "execution_count": 3,
   "id": "165ea700-b10a-4826-bad2-e87d8dcff546",
   "metadata": {},
   "outputs": [
    {
     "data": {
      "text/plain": [
       "24764"
      ]
     },
     "execution_count": 3,
     "metadata": {},
     "output_type": "execute_result"
    }
   ],
   "source": [
    "len(json_data)"
   ]
  },
  {
   "cell_type": "code",
   "execution_count": 11,
   "id": "27a46fb8-888e-43b4-8876-15c6448491c6",
   "metadata": {
    "scrolled": true
   },
   "outputs": [
    {
     "data": {
      "text/plain": [
       "{'indexed': {'date-parts': [[2024, 1, 15]],\n",
       "  'date-time': '2024-01-15T00:06:23Z',\n",
       "  'timestamp': 1705277183143},\n",
       " 'reference-count': 0,\n",
       " 'publisher': 'American Association for the Advancement of Science (AAAS)',\n",
       " 'issue': '6379',\n",
       " 'content-domain': {'domain': [], 'crossmark-restriction': False},\n",
       " 'short-container-title': ['Science'],\n",
       " 'published-print': {'date-parts': [[2018, 3, 2]]},\n",
       " 'abstract': 'In war zones and refugee camps, researchers are putting resilience interventions to the test.',\n",
       " 'DOI': '10.1126/science.359.6379.976',\n",
       " 'type': 'journal-article',\n",
       " 'created': {'date-parts': [[2018, 3, 1]],\n",
       "  'date-time': '2018-03-01T19:05:42Z',\n",
       "  'timestamp': 1519931142000},\n",
       " 'page': '976-979',\n",
       " 'source': 'Crossref',\n",
       " 'is-referenced-by-count': 12,\n",
       " 'title': ['Lessons in resilience'],\n",
       " 'prefix': '10.1126',\n",
       " 'volume': '359',\n",
       " 'author': [{'given': 'Emily',\n",
       "   'family': 'Underwood',\n",
       "   'sequence': 'first',\n",
       "   'affiliation': []}],\n",
       " 'member': '221',\n",
       " 'container-title': ['Science'],\n",
       " 'language': 'en',\n",
       " 'link': [{'URL': 'https://www.science.org/doi/pdf/10.1126/science.359.6379.976',\n",
       "   'content-type': 'unspecified',\n",
       "   'content-version': 'vor',\n",
       "   'intended-application': 'similarity-checking'}],\n",
       " 'deposited': {'date-parts': [[2024, 1, 14]],\n",
       "  'date-time': '2024-01-14T10:08:27Z',\n",
       "  'timestamp': 1705226907000},\n",
       " 'score': 8.685653,\n",
       " 'resource': {'primary': {'URL': 'https://www.science.org/doi/10.1126/science.359.6379.976'}},\n",
       " 'issued': {'date-parts': [[2018, 3, 2]]},\n",
       " 'references-count': 0,\n",
       " 'journal-issue': {'issue': '6379',\n",
       "  'published-print': {'date-parts': [[2018, 3, 2]]}},\n",
       " 'alternative-id': ['10.1126/science.359.6379.976'],\n",
       " 'URL': 'http://dx.doi.org/10.1126/science.359.6379.976',\n",
       " 'relation': {'has-review': [{'id-type': 'doi',\n",
       "    'id': '10.3410/f.732769970.793544621',\n",
       "    'asserted-by': 'object'}]},\n",
       " 'ISSN': ['0036-8075', '1095-9203'],\n",
       " 'issn-type': [{'value': '0036-8075', 'type': 'print'},\n",
       "  {'value': '1095-9203', 'type': 'electronic'}],\n",
       " 'subject': ['Multidisciplinary'],\n",
       " 'published': {'date-parts': [[2018, 3, 2]]}}"
      ]
     },
     "execution_count": 11,
     "metadata": {},
     "output_type": "execute_result"
    }
   ],
   "source": [
    "json_data[2247]"
   ]
  },
  {
   "cell_type": "code",
   "execution_count": 13,
   "id": "4f310cfc-462a-4638-87fd-abc56884000c",
   "metadata": {},
   "outputs": [
    {
     "data": {
      "text/plain": [
       "{'indexed': {'date-parts': [[2023, 11, 16]],\n",
       "  'date-time': '2023-11-16T17:24:35Z',\n",
       "  'timestamp': 1700155475948},\n",
       " 'reference-count': 0,\n",
       " 'publisher': 'Queensland University of Technology',\n",
       " 'issue': '5',\n",
       " 'content-domain': {'domain': [], 'crossmark-restriction': False},\n",
       " 'short-container-title': ['M/C J'],\n",
       " 'abstract': '  Introduction  This essay begins with the premise that resilience, broadly defined as positive adaptation despite adversity (Garmezy and Rutter), and resilience building are important concepts and practices for social policy because they are concerned with the quality of people’s lives forged within conditions of marginalisation and disadvantage. Although it will focus on trends in contemporary neoliberal policies and practices, it builds on the tradition of scholarship that has provided critical alternative accounts to the encyclopaedic knowledge of the “pathologies” of the oppressed. Resilience research constitutes one such field of disruption in its turn to understanding how people endure, cope or indeed thrive despite adversity. Over forty years of research has explored a wide range of adversities, protective, buffering, restorative or promotive processes enabling people’s coping, recovery, wellbeing and capacity to lead dignified, meaningful, successful lives (O’Doherty Wright and Masten). Essentially, resilience research has sought to understand what makes a difference in the lives of children, young people and adults with a view to applying this knowledge through policy, professional intervention and practices within families, schools, other public systems and communities.  Early research on resilience focused on individual traits to explain people’s wellbeing despite the effects of significant stressors or challenging circumstances. However, it is now widely accepted that resilience involves diverse processes embedded in ecological systems. How resilience manifests is shown to vary according to the kind of barriers, traumas and ongoing adversities people experience in their cultural, social and political contexts. At the individual level, personal agency and the capacity to act in and on the world are posited as important mechanisms of resilience (Edwards; Rutter). But these are always enabled in relationship with others and take on meaning in specific activity domains and cultural contexts. For example, for Indigenous peoples, language, culture, land and “caring for country” have been important resources for surviving and coping with the lasting effects of colonisation (Dockery; Weir, Stacey and Youngetob). Access to cultural and material resources, political activism for land rights and scope for self-determination are significant to individual and collective Indigenous resilience (Kirmayer et al.). Across diverse cultures and contexts, resilience is shown to be contingent on community capacities and resources (Ungar). For young people and families in poverty, these include “resilience-generating institutions” (Fine, Stoudt, Fox and Santos 32) such as schools and community centres and access to housing, transport, local infrastructure and opportunities that are, in turn, shaped by social and economic structures and systems of distribution (of adversity, opportunity and social goods) including the policies that facilitate them (Bottrell and Armstrong; France, Bottrell and Armstrong).  Discrepancies between these understandings of resilience processes and policy orientations have been noted. Seccombe’s analysis of influences on the resilience of families in poverty concludes that “careful attention must be paid to the structural deficiencies in our society and to the social policies that families need in order to become stronger, more competent, and better functioning in adverse situations” (385). Similarly, O’Dougherty Wright and Masten argue that it is well established that there is the need for supportive “multifaceted, community-based intervention” to promote the resilience of children and families living with chronic adversity, yet progress in this direction has been slow and uneven (32). However, in resilience research there is little analysis of these discrepancies in terms of how resilience is framed in social policy and how its meaning has emerged as very different from the contextualised ecological systems approach.  Resilience researchers have questioned the limits and costs of resilience in conditions of extreme adversity such as poverty and racial oppression, yet in the main, these critiques have received little attention. For example, Luthar (1993) and Liddle (1994) emphasised the importance of not losing sight of the human suffering that is often experienced in the process of developing resilience. More recently, Bottrell has emphasised the utility of resilience to neoliberal policy in asking the following questions: “[T]o what extent will adversity be tolerated, on the assumption that resilient individuals can and do cope? How much adversity should resilient individuals endure before social arrangements rather than individuals are targeted for intervention?” (Qualitative Social Work 335).  This paper takes up these questions in arguing that the meaning of resilience in social policy is distorted by its neoliberal reworking for governance purposes. As economic, ideological and political systems, neoliberalism’s key tenets are that,  human well-being can best be advanced by liberating individual entrepreneurial freedoms and skills within an institutional framework characterized by strong private property rights, free markets and free trade. The role of the state is to create and preserve an institutional framework appropriate to such practices. (Harvey 2)  As economic policies and practices, neoliberalism distributes benefits and opportunities highly inequitably; as “ontoformative, it creates new social realities on a very wide front” (Connell 43). These dimensions of neoliberalisation are particularly evident in social policy and practice because this field has been and continues to be a focus for privatisation and activating new social relations to accomplish market rule. These shifts are infused with the tensions, contradictions, crises and ideological inconsistencies that are characteristic of neoliberalisation globally and in sovereign contexts (Brenner, Peck and Theodore).  The ascendance of resilience as a social policy text articulates these shifts. In the following sections it is argued that key trends in neoliberal social policy point to the political, ideological and structural processes that produce the need for resilience. However, its production lies not only in policy that explicitly claims to focus on building resilient communities but through other neoliberal policy agenda. It is proposed, then, that resilience as a policy concept and related practice is better understood in its intertextuality, that is, as embedded in the interrelationship of policies and strategies directed toward the realisation of neoliberal ideals. The paper focuses on the articulation of resilience and responsibility as twinned texts of neoliberal governance.\\xa0  The Neoliberal Text of Resilience  In Australia, the United States and other advanced capitalist democracies, the policy framing of resilience encapsulates the principle of individualisation that has been characteristic in the neoliberal realignment of social policy to economic aims. Resilience is typically represented in social policy as a matter of individual attributes that are integral to autonomy, self-invention and choice biographies (Bottrell and Armstrong). For example, in Australian youth policy, resilience is described as important for all young people, to “navigate life’s challenges” and particularly important for youth “at risk” (http://www.youth.gov.au/ayf/media/Pages/NationalStrategyforYoungAustralians.asp). In national educational goals, resilience as a “personal attribute” is linked to young people’s confidence and self-management essential for “fulfilling, productive and responsible lives” (http://www.acara.edu.au/curriculum/curriculum.html#). Similarly, US Health and Human Services policy links resilience to strategies promoting healthy behaviours and reducing risky behaviours (http://www.hhs.gov/secretary/about/priorities/priorities.html). The emphasis on individualised resilience is evident too in policy strategies for “community resilience”. Common approaches, for example in Australia, the US, and other liberal welfare states (Esping-Anderson), include parenting, pre-school and school programs focused on improving individual skills to diminish the impact of “risks”; while communitarian elements tend to focus on self-help initiatives as the means of individuals accessing skills and support to manage their lives. Although supported through interagency co-ordination and community work, there are often minimal program funds attached for long-term, participatory community development (Fawcett, Goodwin, Meagher and Phillips). The emphasis on individuals, their skills and attitudes and is an outmoded notion of resilience that decontextualises it from cultural contexts, social structures and political processes. As recognised in resilience research, whether a young person, parent or community endures, copes or thrives is dependent on the resources of the community that are accessible and culturally meaningful (Bottrell; Massey, Cameron, Ouelette and Fine; Ungar).  According to Dorothy Smith, “texts” as the “foundational media” co-ordinating people, activities and institutional relations, reposition people as institutional subjects. The abstraction of people’s lived situations and their repositioning through generalised and ideological messages is an essential function of “texts”, as governing documents and the co-ordinated social relations and practices flowing from aims and strategies. We see these processes in the policy text of resilience as it articulates the neoliberal ideology of entrepreneurial individualism and repositions young people, families and communities in terms of the capacities relevant to this ideal. In this way, it takes them out of their everyday lives, actual concerns and the social organisation of ruling relations that give rise to them (Smith, Everyday World). Resilience then becomes a basis for “placing all blame or credit on individuals for their successes and failures” (Rigsby 93).  Smith further argues that the regulatory function of texts are organised as an “intertextual hierarchy” in which “higher-order texts regulate and standardize texts that enter directly into the organization of work in multiple local settings” (Incorporating texts 79). Thus, we will find that the key concepts and categories which organise, normalise and naturalise people’s actualities are intertextually referential. In the specific policies advocating the importance of resilience, its utility is generalised to “navigating” or “overcoming” or “managing” challenging circumstances for the overarching purposes of national productivity, global competitiveness and stronger futures. It is an instance of the higher-order economic text reframing social arrangements.  Resilience and Responsibility as Twinned Neoliberal Texts  As the higher-order text of economic thriving has articulated into social policy, resilience and responsibility have emerged as twinned neoliberal texts. This merger is produced in the shift of former state responsibilities onto young people, families, and communities through two broad moves: the “rollback” of public goods and services, associated with facilitating local and global market growth, and the “rollout” (Tickell Peck 168) of increasing intervention in the lives of people who are designated “socially excluded” or “at risk”. As the management of privatised risk has become the core responsibility of neoliberal citizenship it has centred on economic contribution in the paid workforce, but extends to self-management of health, education, childcare and other social goods that are increasingly marketised and represented as a matter of choice by discerning consumers (Clarke). In this context, ideal citizens are depicted as those who avoid “risky” and unhealthy behaviours and choose those that enhance their wellbeing thus minimising their cost to the state and facilitating further “rollback” of state provision. However, access to employment, consumption and choice in many aspects of everyday life are highly differentiated by gendered, raced and class position and locality, rendering vulnerability or immunity to the “activating” and “responsibilising” dimensions of these texts.\\xa0 Here I outline exemplars of the interactive and intertextual processes of activation and responsibilisation, distributed through policy work, reshaping conditions of resilience.  Indigenous people, people of colour, the poor and working-class carry the burden of historical inequalities that have been exacerbated by neoliberal economic policies driving the new institutional framework of individualised resilience and responsibility. While forms are “variegated” by historical, geographical and ideological contexts and complex arrangements of federal, state and local governance (Brenner, Peck and Theodore), a ubiquitous characteristic of neoliberalisation is increased poverty, wealth and a widening divide orchestrated through processes of accumulation and/by dispossession (Harvey). For example, post global financial crisis figures (for 2009-10) show that Australia’s richest quintile had accrued a 15% increase in their wealth from 2005-6, to 62% of national household wealth, while the lowest three quintiles held 18%, the lowest three deciles held 3%, and the poorest quintile held 1%. While the mean household net worth (calculated on income, wealth and expenditure) increased by 28% from 2003-4 to 2009-10, the net worth of low economic resource households was seven times less, a drop from six times less in 2003-4.  Harvey identifies key processes of neoliberalisation including privatisation of public assets and labour protections, commodification of public utilities and services, predatory and speculative financial markets, and myriad corporate welfare initiatives, subsidies and bail-outs. Analysing global market growth and local effects, he shows that neoliberalisation relies on the disempowerment of labour movements, with personal and collective costs of the dispossession of labour rights most marked for working-class families and communities. The same conditions have also fuelled middle-class anxieties, eliciting the need to work hard at maintaining privilege (Pusey); while ruling class elites increased their power and affluence. Historically classed and raced relations to economic growth, crises and recovery have thus consolidated in interwoven “circuits of dispossession and privilege” (Fine, Stoudt, Fox and Santos 30). Analysis of these circuits reveals how naturalised privilege relies on a range of wellbeing benefits “from the (mal) distribution and accumulation of materials, resources, rewards, knowledge and opportunities” (Stoudt, Fox and Fine 179) that in their absence for others give rise to the need for resilience.  Communities bypassed by trans/national investments and opportunities and reliant on residualising public provision have accumulated disadvantage and been subsequently recast as “failing” or “non-resilient” and “targeted” by policy strategies to secure their economic participation, with emphasis on compliance and behavioural change. This has been well documented in the case of welfare-to-workfare programs (Fawcett, Goodwin, Meagher and Phillips; Williams, Shanks and Danziger). Since the 1990’s in Australia and the US, workfare has enshrined the neoliberal demonisation of welfare “dependency”, intensified surveillance through performance contracts and piled up conditions on recipients, including stricter eligibility criteria, reductions to benefit duration, participation in job readying or parenting programs, and an increasing range of “breach” criteria with accompanying penalties. Schram, Fording and Soss argue that the proliferation of penalties is indicative of the “new paternalism” that reasserts the role of the state as instrument of social control. Indeed, the conditionality of residual neoliberal welfare support has been critiqued as increasingly coercive, punitive and merging into the penal complex through standardising systems of governance (Haney; Wacquant Punishing the poor). The mix of incentives, close supervision, individualised “support”, and threat of or actual penalties are intended to shape people’s behaviour and instil awareness of their moral obligations to society, largely replacing redistributive approaches to poverty management (Wacquant Penalisation).  Again, the burdens of punitive interventionary welfare policy in the US are more likely to be carried by Latina and African-American poor and fall heavily on the latter (Schram, Soss, Fording and Houser). For many poor women, compliance with workfare accrues few benefits and in fact, as Collins and Mayer show, it can be “a downward mobility machine” (123). In Australia, Indigenous people and specific disadvantaged urban communities are targeted by new place-based welfare responsibilisations. These include behaviourist measures of “income management” whereby a proportion of recipients’ payments are quarantined and only made available for uses designated by the state (Billings). Because they are represented as in the interests of children, such measures reinscribe notions of dysfunctional welfare families, and especially negative biases toward Aboriginal mothers and fathers (Moore and Riley).  In these ways, the text of responsibility takes up where the text of resilience leaves off. When people are deemed incapable of navigating their individualised barriers, the state is willing to make them conform to its conception of the resilient citizen by following its designated pathways to wellbeing. In turn, it reactivates the need for resilience in socioeconomically marginalised communities reconstructed as dysfunctional, lacking capacity, or unwilling economic and social contributors.  Intertextually linked with economic participation and welfare reform, the disciplinary neoliberal distribution of responsibilities has included a particular focus on education and parenting, co-ordinated by the aim of human capital formation. As Ball argues, the quest for competitive advantage in global markets has reshaped the landscape of schooling through quasi-markets, local and international league tables, the concentration of resources toward student performance on standardised tests, alongside the shift of responsibility to teachers, young people, parents and communities to work on an ever increasing list of social problems. The market discipline positions parents as consumers in terms of school choice, provision of supplementary education and organised enrichment out of school and, in partnership with teachers, as accountable for achievement targets (Bottrell and Goodwin). Again, the distribution of responsibilities is socially differentiated and tied to the rollback of state resources. With a mix of aspiration and anxiety, middle-class parents work hard at securing their children’s successful futures, and their own position, going to great lengths to find the “right” sort of school, predominantly non-government or selective or specialist comprehensives, and post-school destinations (Campbell, Proctor and Sherington). This is often mother-work based in public and private divisions of labour and the market reshaping of family life, while the same influences elicit a new role for fathers as investment managers of their children’s education (Aitchison; Connell).  The result has been widening equity gaps, not only in educational outcomes, but in respect and dignity as students, parents and teachers in residualised public schools are represented pejoratively through very public league tables and political and media constructions of public school “problems”. Moreover, the idealised White middle-class norm called up in parenting-education texts marginalises different ways of relating to children’s schooling, leisure and upbringing (Lea, Thompson, McRae-Williams and Wegner). Parents and families are then recast as lacking aspiration, failing to appropriately value education or “invest” in children’s futures, or simply neglectful. Again we see alongside the activating texts of choice and moral obligations, a raft of legislation that enables the state to enforce parental responsibility at the subordinate nodes of racialised social-economic circuits, for children’s school attendance, “pro-social” behaviour and wellbeing (France, Bottrell and Armstrong; Gillies).  Reworking Resilience and Responsibility Texts  As the individualised “can-do” notion of resilience, twinned with the privatisation of responsibilities, circulates in and flows from policy texts, it obscures historical and more recent structural inequities that are fundamental barriers to the wellbeing of the poor and blames and penalises them for what are intertextually deemed to be their failings, deficits and unhealthy dependencies. Smith’s “ideological circle” is a key textual process in the production of neoliberal resilience (see The conceptual practices of power). In this process, the state ideologically defines the terms, problems and objects of policy work, embeds its ideological messages, standardising categories and practices into policy texts that then serve as means of locating those abstracted categories, problems and objects in people’s everyday realities. The ideological circle is closed when the located activities and categories of people are the object of interventions. In the policy regimes discussed above, the state defines the terms of human wellbeing as economic participation and an ideal White middle-class ontology, then, following a tautological and intertextual ideologic, intervenes through responsibilisation.  Across welfare, workfare, education and parenting policies, we see then a broad pattern in the shift of activating mechanisms from rights to conditional support, to penalty. When analysed intertextually, the individualised notion of resilience promulgated in policy is incoherent and confused. The scope for personal agency that is assumed in “can do” resilience and for “taking responsibility” is confiscated in conditional and penalising regimes. Instead, the required subjecthood is concerned with conformity, acquiescence and limited choice. At the same time, these dispossessions of agency and rights constitute further adversities of the least advantaged, intensifying their need for resilience. We may conclude, therefore, that resilience as neoliberal text is not concerned with marginalised people’s actualities and wellbeing. Activating and responsibilising strategies are foremost a means of shifting responsibility from the state. These same shifts enhance the rights and wellbeing of the more privileged, whose financial, cultural and social resources enable their wellbeing, self-regulation and freedom from targeted intervention. Moreover, state rhetorical enthusiasm for resilient individuals and communities provides a smokescreen over its removal of barriers to market based accumulation, facilitation of accumulation by dispossession and policy failure in areas such as poverty reduction, educational equity and redress of damaging adverse conditions in marginalised communities.  Conclusion  This paper has argued that as twinned neoliberal texts, resilience and responsibility differentiate people’s capacities to cope and thrive by reframing barriers, adversities, and uncertainties as personal crises or accomplishments decoupled from economic and social circuits of accumulation and dispossession that are, in Smith’s terms, “organized elsewhere” (see The everyday world as problematic). The continuum of resilience as thriving, coping or enduring is directly co-ordinated through the hierarchy of neoliberal texts with its continuum of social policy support, conditionality and coercion through penalty. Moreover, it is not only the case that the poor and the privileged are differentially positioned in relation to rollback and rollout neoliberalism but its “rollover” (Fabricant and Fine) and “roll to” strategies comprising accumulation by dispossession are directed toward protecting privilege - as wellbeing and power, including the wellbeing, power and control of the state. In ecological terms, the twinning of “resilience” and “responsibility” is essential to the interrelated reconfigurations of education, parenting, welfare, workfare and economic development that constitute the remaking of classed, raced and gendered relations to private and public institutions.  References  Aitchison, Claire. “Good Mothers Go School Shopping”. The Good Mother: Contemporary Motherhoods in Australia. Eds. Sue Goodwin & Kate Huppatz. Sydney: Sydney University Press, 2010. 89-110.  Australian Bureau of Statistics. Household Wealth and Wealth Distribution, Australia, 2009‐10 (2010). Cat no: 6554.0. 9 October 2013 ‹http://www.ausstats.abs.gov.au/ausstats/subscriber.nsf/0/51342DFD54324472CA257928001107B4/$File/65540_2009-10.pdf>.  Australian Government. National Strategy For Young Australians. 14 April 2010. ‹http://www.youth.gov.au/ayf/media/Pages/NationalStrategyforYoungAustralians.aspx>.  Ball, Stephen. \"Education for Sale! The Commodification of Everything?\" King’s Annual Education Lecture 2004. University of London, 17 June 2004. ‹http://nepc.colorado.edu/files/CERU-0410-253-OWI.pdf>.  Ball, Stephen. “New Class Inequalities in Education: Why Education Policy May Be Looking in the Wrong Place! Education Policy, Civil Society and Social Class”. International Journal of Sociology and Social Policy 30 (2010): 155-166.  Billings, Peter. “Social Welfare Experiments in Australia: More Trials for Aboriginal Families?” Journal of Social Security Law 17 (2010): 164-196.  Bottrell, Dorothy. “Understanding ‘Marginal’ Perspectives: Toward a Social Theory of Resilience.” Qualitative Social Work. Research & Practice 8 (2009): 321-339.  Bottrell, Dorothy, and Derrick Armstrong. “Local Resources and Distal Decisions: The Political Ecology of Resilience”. The Social Ecology of Resilience: A Handbook of Theory and Practice. Ed. Michael Ungar. New York: Springer, 2012. 247–264.  Bottrell, Dorothy, and Susan Goodwin. “Schools, Communities and the Achievement Turn: The Neo-Liberalisation of Equity”. Schools, Communities and Social Inclusion, Ed. Dorothy Bottrell and Susan Goodwin. Melbourne: Palgrave Macmillan (2011): 22-37.  Brenner, Neil, Jamie Peck, and Theodore, Nik. “Variegated Neoliberalization: Geographies, Modalities, Pathways”. Global Networks 10 (2010): 1-41.  Campbell, Craig, Helen Proctor, and Geoffrey Sherington. School Choice: How Parents Negotiate the New School Market in Australia. Sydney: Allen and Unwin, 2009.  Clarke, J. “New Labour’s Citizens: Activated, Empowered, Responsibilized, Abandoned?” Critical Social Policy (2005): 447-463.  Collins, Jane, and Victoria Mayer. Both Hands Tied: Welfare Reform and the Race to the Bottom of the Low-Wage Labor Market. Chicago: The University of Chicago Press, 2010.  Connell, Raewyn. Confronting Equality: Gender, Knowledge and Global Change. Sydney: Allen and Unwin, 2011.  Dockery, Alfred. Culture and Wellbeing: The Case of Indigenous Australians. CLMR Discussion Paper. Perth: Centre for Labour Market Research, Curtin University ofTechnology. 10 Sep. 2009 ‹http://ceebi.curtin.edu.au/local/docs/2009.01_CultureWellbeing.pdf>  Edwards, A. “Working Collaboratively to Build Resilience: A CHAT approach”. Social Policy and Society (2007): 255–264.  Esping-Anderson, Gøsta. The Three Worlds of Welfare Capitalism. Princeton: Princeton University Press, 1990.  Fabricant, Michael, and Michelle Fine. Charter Schools and the Corporate Makeover of Public Education. What’s at Stake? New York: Teachers College Press, 2012.  Fawcett, Barbara, Susan Goodwin, Gabrielle Meagher, and Ruth Phillips. Social Policy for Social Change. Melbourne: Palgrave Macmillan, 2010.  Fine, Michelle, Brett Stoudt,\\xa0 M. Fox, and M. Santos. “The Uneven Distribution of Social Suffering: Documenting the Social Health Consequences of Neo-Liberal Social Policy on Marginalized Youth”. The European Health Psychologist, (2010): 30-35.  France, Alan, Dorothy Bottrell, and Derrick Armstrong. A Political Ecology of Youth and Crime. Basingstoke, UK: Palgrave Macmillan, 2012.  Garmezy, Norman, and Michael Rutter. Stress, Coping, and Development in Children. New York: McGraw-Hill, 1983.  Gillies, Val.“Young People and Family Life: Analysing and Comparing Disciplinary Discourses”. Journal of Youth Studies (2000): 211-228.  Harvey, David. A Brief History of Neoliberalism. Oxford: Oxford University Press, 2005.  Haney, Lyn. “Introduction: Gender, Welfare and States of Punishment”. Social Politics (2004): 333-362.  Kirmayer, Laurence, Stephane Dandeneau, Elizabeth Marshall, Morgan Kahentonni Phillips, and Karla Jessen Williamson, K. “Toward an Ecology of Stories: Indigenous Perspectives on Resilience. The Social Ecology of Resilience: A Handbook of Theory and Practice. Ed. Michael Ungar. New York: Springer, 2012. 399–414.  Lea, T., H. Thompson, E. McRae-Williams, and A. Wegner. “Policy Fuzz and Fuzzy Logic: Researching Contemporary Indigenous Education and Parent-School Engagement in North Australia”. Journal of Education Policy (2011): 321-339.  Liddle, Howard. “Contextualizing Resilience”. Educational Resilience in Inner-City America. Challenges and Prospects. Eds. Margaret Wang and Edmund Gordon. New York: Routledge, 1994. 167-177.  Luthar, S. “Annotation: Methodological and Conceptual Issues in the Study of Resilience”. Journal of Child Psychology and Psychiatry (1993): 441–453.  Massey, S., A. Cameron, S. Ouellette, and M. Fine. “Qualitative Approaches to the Study of Thriving: What Can Be Learned?” Journal of Social Issues (1998): 337-355.Ministerial Council on Education, Employment, Training and Youth Affairs. Melbourne Declaration on Educational Goals for Young Australians. Carlton South: MCEETYA/Curriculum Corporation, 2008. ‹http://www.acara.edu.au/curriculum/curriculum.html#2>.  Moore, Jane, and Lynette Riley. “Aboriginal Mother Yarns”. The Good Mother. Contemporary Motherhoods in Australia. Eds. Sue Goodwin and Kate Huppatz. Sydney: Sydney University Press, 2010. 175-193.  O’Doherty Wright, M., and A. Masten. \"Resilience Processes in Development: Fostering Positive Adaptation in the Context of Adversity.\" Handbook of Resilience in Children. Eds. Sam Goldstein and Robert B. Brooks. New York: Springer, 2006. 17-37.  Pusey, Michael. The Experience of Middle Australia: The Dark Side of Economic Reform. Cambridge: Cambridge University Press, 2003.  Rigsby, Leo. “The Americanization of Resilience: Deconstructing Research Practice.” Educational Resilience in Inner-City America: Challenges and Prospects. Eds. Margaret. Wang and Edmund Gordon. New York: Routledge, 1994. 85-94.  Rutter, Michael. “Implications of Resilience Concepts for Scientific Understanding”. Annals of the New York Academy of Science 1094 (2006): 1–12.  Schram, Standford, Richard Fording, and Joe Soss. “Neoliberal Poverty Governance: Race, Place and the Punitive Turn in U.S. Welfare Policy”. Cambridge Journal of Regions, Economy and Society (2008): 1-20.  Schram, Standford, Joe Soss, Richard Fording, and Linda Houser. “Deciding to Discipline: Race, Choice, and Punishment at the Frontlines of Welfare Reform”. American Sociological Review (2009): 398–422.Seccombe, Karen. “\\'Beating the Odds\\' versus \\'Changing the Odds\\': Poverty, Resilience and Family Policy. Journal of Marriage and Family (2002): 384-394.  Smith, Dorothy. The Everyday World as Problematic: A Feminist Sociology. Boston: Northeastern University Press, 1987.  Smith, Dorothy. The Conceptual Practices of Power: A Feminist Sociology of Knowledge. Boston: Northeastern University Press, 1990.  Smith, Dorothy. \"Texts and the Ontology of Organizations and Institutions.\" Studies in Cultures, Organizations and Societies (2001): 159-198.  Smith, Dorothy.\\xa0 “Incorporating Texts into Ethnographic Practice.” Institutional Ethnography as Practice. Ed. Dorothy E. Smith. Lanham, Maryland: Rowman & Littlefield, 2006. 65-88  Stoudt, Brett, Madeline Fox, and Michelle Fine. “Contesting Privilege with Critical Participatory Action Research.” Journal of Social Issues (2012): 178-193.  Tickell, Adam, and Jamie Peck. “Making Global Rules: Globalisation or Neoliberalisation?” Remaking the Global Economy: Economic-Geographical Perspectives. Eds. Jamie Peck and Henry W-C Yeung. London: Sage, 2013. 163-181  Ungar, Michael. “Resilience across Cultures.” British Journal of Social Work (2008): 218-235.  US Department of Health & Human Services. Strategic Plan: Fiscal years 2010-2015. 12 May 2012 ‹http://www.hhs.gov/secretary/about/priorities/priorities.html>.  Wacquant, Loïc. “The Penalisation of Poverty and the Rise of Neo-Liberalism.” European Journal on Criminal Policy and Research (2001): 401–11.  Wacquant, Loïc. Punishing the Poor: The Neoliberal Government of Social Insecurity. Durham: Duke University Press, 2009.  Weir, Jessica, Claire Stacey, and Kara Youngetob. The Benefits of Caring for Country: Literature Review. Australian Institute for Aboriginal and Torres Strait Islander Studies/Department of Sustainability, Environment, Water, Population and Communities, 2011. ‹http://www.aiatsis.gov.au/research/lw/benefit.html>.',\n",
       " 'DOI': '10.5204/mcj.708',\n",
       " 'type': 'journal-article',\n",
       " 'created': {'date-parts': [[2020, 10, 13]],\n",
       "  'date-time': '2020-10-13T06:56:09Z',\n",
       "  'timestamp': 1602572169000},\n",
       " 'source': 'Crossref',\n",
       " 'is-referenced-by-count': 23,\n",
       " 'title': ['Responsibilised Resilience? Reworking Neoliberal Social Policy Texts'],\n",
       " 'prefix': '10.5204',\n",
       " 'volume': '16',\n",
       " 'author': [{'given': 'Dorothy',\n",
       "   'family': 'Bottrell',\n",
       "   'sequence': 'first',\n",
       "   'affiliation': []}],\n",
       " 'member': '3230',\n",
       " 'published-online': {'date-parts': [[2013, 8, 21]]},\n",
       " 'container-title': ['M/C Journal'],\n",
       " 'deposited': {'date-parts': [[2020, 10, 13]],\n",
       "  'date-time': '2020-10-13T06:56:09Z',\n",
       "  'timestamp': 1602572169000},\n",
       " 'score': 8.685653,\n",
       " 'resource': {'primary': {'URL': 'https://journal.media-culture.org.au/index.php/mcjournal/article/view/708'}},\n",
       " 'issued': {'date-parts': [[2013, 8, 21]]},\n",
       " 'references-count': 0,\n",
       " 'journal-issue': {'issue': '5',\n",
       "  'published-online': {'date-parts': [[2013, 10, 16]]}},\n",
       " 'URL': 'http://dx.doi.org/10.5204/mcj.708',\n",
       " 'ISSN': ['1441-2616'],\n",
       " 'issn-type': [{'value': '1441-2616', 'type': 'electronic'}],\n",
       " 'subject': ['General Medicine'],\n",
       " 'published': {'date-parts': [[2013, 8, 21]]}}"
      ]
     },
     "execution_count": 13,
     "metadata": {},
     "output_type": "execute_result"
    }
   ],
   "source": [
    "json_data[2246]"
   ]
  },
  {
   "cell_type": "code",
   "execution_count": 7,
   "id": "2e069354-5bda-49c6-8fd7-d6305e2927e4",
   "metadata": {},
   "outputs": [
    {
     "name": "stdout",
     "output_type": "stream",
     "text": [
      "Pre-1973 total is: 32\n",
      "\n",
      "Pre-2000 total is: 215\n",
      "\n",
      "2000s total is: 858\n",
      "\n",
      "2010s total is: 6531\n",
      "\n",
      "2020s total is: 17128\n",
      "\n",
      "Total records sorted is: 24764\n",
      "\n"
     ]
    },
    {
     "ename": "TypeError",
     "evalue": "'bool' object is not callable",
     "output_type": "error",
     "traceback": [
      "\u001b[1;31m---------------------------------------------------------------------------\u001b[0m",
      "\u001b[1;31mTypeError\u001b[0m                                 Traceback (most recent call last)",
      "Cell \u001b[1;32mIn[7], line 45\u001b[0m\n\u001b[0;32m     42\u001b[0m \u001b[38;5;28mprint\u001b[39m(\u001b[38;5;124m\"\u001b[39m\u001b[38;5;124m2020s total is: \u001b[39m\u001b[38;5;124m\"\u001b[39m\u001b[38;5;241m+\u001b[39m\u001b[38;5;28mstr\u001b[39m(count_2020s)\u001b[38;5;241m+\u001b[39m\u001b[38;5;124m\"\u001b[39m\u001b[38;5;130;01m\\n\u001b[39;00m\u001b[38;5;124m\"\u001b[39m)      \n\u001b[0;32m     43\u001b[0m \u001b[38;5;28mprint\u001b[39m(\u001b[38;5;124m\"\u001b[39m\u001b[38;5;124mTotal records sorted is: \u001b[39m\u001b[38;5;124m\"\u001b[39m\u001b[38;5;241m+\u001b[39m\u001b[38;5;28mstr\u001b[39m(count_pre1973\u001b[38;5;241m+\u001b[39mcount_pre2000\u001b[38;5;241m+\u001b[39mcount_2000s\u001b[38;5;241m+\u001b[39mcount_2010s\u001b[38;5;241m+\u001b[39mcount_2020s\u001b[38;5;241m+\u001b[39mcount_error)\u001b[38;5;241m+\u001b[39m\u001b[38;5;124m\"\u001b[39m\u001b[38;5;130;01m\\n\u001b[39;00m\u001b[38;5;124m\"\u001b[39m)\n\u001b[1;32m---> 45\u001b[0m f_pre2000\u001b[38;5;241m.\u001b[39mclosed()\n\u001b[0;32m     46\u001b[0m f_2000s\u001b[38;5;241m.\u001b[39mclosed()\n\u001b[0;32m     47\u001b[0m f_2010s\u001b[38;5;241m.\u001b[39mclosed()\n",
      "\u001b[1;31mTypeError\u001b[0m: 'bool' object is not callable"
     ]
    }
   ],
   "source": [
    "f_pre2000 = open(\"crossref_dois_pre2000s_publisheddate.txt\", \"w\")\n",
    "f_2000s = open(\"crossref_dois_pre2000s_publisheddate.txt\", \"w\")\n",
    "f_2010s = open(\"crossref_dois_2010s_publisheddate.txt\", \"w\")\n",
    "f_2020s = open(\"crossref_dois_2020s_publisheddate.txt\", \"w\")\n",
    "f_alltime = open(\"crossref_dois_alltime_publisheddate.txt\", \"w\")\n",
    "\n",
    "count_pre1973 = 0\n",
    "count_pre2000 = 0\n",
    "count_2000s = 0\n",
    "count_2010s = 0\n",
    "count_2020s = 0\n",
    "count_error = 0\n",
    "count_alltime = 0\n",
    "\n",
    "for i in range(len(json_data)):\n",
    "    DOI = json_data[i]['DOI']\n",
    "    year = json_data[i]['published']['date-parts'][0][0]\n",
    "    count_alltime+=1\n",
    "    f_alltime.write(str(DOI)+\"\\n\")\n",
    "    if year < 1973:\n",
    "        count_pre1973+=1\n",
    "    elif year >= 1973 and year < 2000:\n",
    "        count_pre2000+=1\n",
    "        f_pre2000.write(str(DOI)+\"\\n\")\n",
    "    elif year >= 2000 and year < 2010:\n",
    "        count_2000s+=1\n",
    "        f_2000s.write(str(DOI)+\"\\n\")\n",
    "    elif year >= 2010 and year < 2020:\n",
    "        count_2010s+=1\n",
    "        f_2010s.write(str(DOI)+\"\\n\")\n",
    "    elif year >= 2020:\n",
    "        count_2020s+=1\n",
    "        f_2020s.write(str(DOI)+\"\\n\")\n",
    "    else:\n",
    "        print(\"Date error at position \"+str(i)+\"\\n\")\n",
    "        count_error+=1\n",
    "        \n",
    "print(\"Pre-1973 total is: \"+str(count_pre1973)+\"\\n\")\n",
    "print(\"Pre-2000 total is: \"+str(count_pre2000)+\"\\n\")      \n",
    "print(\"2000s total is: \"+str(count_2000s)+\"\\n\")      \n",
    "print(\"2010s total is: \"+str(count_2010s)+\"\\n\")      \n",
    "print(\"2020s total is: \"+str(count_2020s)+\"\\n\")      \n",
    "print(\"Total records sorted is: \"+str(count_pre1973+count_pre2000+count_2000s+count_2010s+count_2020s+count_error)+\"\\n\")\n",
    "\n",
    "f_pre2000.closed()\n",
    "f_2000s.closed()\n",
    "f_2010s.closed()\n",
    "f_2020s.closed()\n",
    "f_alltime.closed() "
   ]
  },
  {
   "cell_type": "code",
   "execution_count": 4,
   "id": "215ba39d-8a5f-4c94-a6ea-401fe64e7c6d",
   "metadata": {},
   "outputs": [],
   "source": [
    "for i in range(len(json_data)):\n",
    "    DOI = json_data[i]['DOI']\n",
    "    year = json_data[i]['published']['date-parts'][0][0]"
   ]
  },
  {
   "cell_type": "code",
   "execution_count": null,
   "id": "a34ae505-3b1a-4ccd-82ad-6801ff8ba269",
   "metadata": {},
   "outputs": [],
   "source": [
    "f_2000s = open(\"crossref_dois_pre2000s_publisheddate.txt\", \"w\")\n",
    "for i in range(len(json_data)):\n",
    "    if json_data[i].get('published-print'):\n",
    "        year_published = json_data[i]['published-print']['date-parts'][0][0]\n",
    "    if json_data[i].get('published-online'):\n",
    "        year_online =  json_data[i]['published-online']['date-parts'][0][0]\n",
    "    DOI = json_data[i]['DOI']\n",
    "    year = min(year_published, year_online)\n",
    "    if year < 2000:\n",
    "        f.write(str(DOI)+\"\\n\")\n",
    "f.close()"
   ]
  },
  {
   "cell_type": "code",
   "execution_count": 30,
   "id": "bb9f5131-34f7-4d32-9b53-6c9dea5e58de",
   "metadata": {},
   "outputs": [],
   "source": [
    "f_2010s = open(\"crossref_dois_2010s_publisheddate.txt\", \"w\")\n",
    "for i in range(len(json_data)):\n",
    "    if json_data[i].get('published-print'):\n",
    "        year_published = json_data[i]['published-print']['date-parts'][0][0]\n",
    "    if json_data[i].get('published-online'):\n",
    "        year_online =  json_data[i]['published-online']['date-parts'][0][0]\n",
    "    DOI = json_data[i]['DOI']\n",
    "    year = min(year_published, year_online)\n",
    "    if year > 2010 and year <= 2020:\n",
    "        f.write(str(DOI)+\"\\n\")\n",
    "f.close()"
   ]
  },
  {
   "cell_type": "code",
   "execution_count": 31,
   "id": "8671f1d4-c131-493a-8803-bcfd79d309af",
   "metadata": {},
   "outputs": [],
   "source": [
    "f_2020s = open(\"crossref_dois_2020s_publisheddate.txt\", \"w\")\n",
    "for i in range(len(json_data)):\n",
    "    if json_data[i].get('published-print'):\n",
    "        year_published = json_data[i]['published-print']['date-parts'][0][0]\n",
    "    if json_data[i].get('published-online'):\n",
    "        year_online =  json_data[i]['published-online']['date-parts'][0][0]\n",
    "    DOI = json_data[i]['DOI']\n",
    "    year = min(year_published, year_online)\n",
    "    if year > 2020 and year <= 2030:\n",
    "        f.write(str(DOI)+\"\\n\")\n",
    "f.close()"
   ]
  },
  {
   "cell_type": "code",
   "execution_count": 32,
   "id": "635a757a-8091-4521-8ab0-88855218efa4",
   "metadata": {},
   "outputs": [],
   "source": [
    "f = open(\"crossref_dois_alltime_publisheddate.txt\", \"w\")\n",
    "for i in range(len(json_data)):\n",
    "    if json_data[i].get('published-print'):\n",
    "        year_published = json_data[i]['published-print']['date-parts'][0][0]\n",
    "    if json_data[i].get('published-online'):\n",
    "        year_online =  json_data[i]['published-online']['date-parts'][0][0]\n",
    "    DOI = json_data[i]['DOI']\n",
    "    year = min(year_published, year_online)\n",
    "    if year > 1972:\n",
    "        f.write(str(DOI)+\"\\n\")\n",
    "f.close()"
   ]
  },
  {
   "cell_type": "code",
   "execution_count": null,
   "id": "f4e633ac-6e8b-41f5-823d-fa656ac39914",
   "metadata": {},
   "outputs": [],
   "source": []
  },
  {
   "cell_type": "code",
   "execution_count": null,
   "id": "2c5e6e21-abb2-454b-8002-c1b6571bf6d3",
   "metadata": {},
   "outputs": [],
   "source": []
  },
  {
   "cell_type": "code",
   "execution_count": null,
   "id": "e11ede83-7125-490d-8a1c-f7c5af416de8",
   "metadata": {},
   "outputs": [],
   "source": []
  },
  {
   "cell_type": "code",
   "execution_count": null,
   "id": "462999c3-2bc9-4cec-9076-0719261fe9c0",
   "metadata": {},
   "outputs": [],
   "source": []
  },
  {
   "cell_type": "code",
   "execution_count": 17,
   "id": "ca067447-3a4b-4f11-8120-8677aeedc009",
   "metadata": {},
   "outputs": [
    {
     "ename": "TypeError",
     "evalue": "'bool' object is not callable",
     "output_type": "error",
     "traceback": [
      "\u001b[1;31m---------------------------------------------------------------------------\u001b[0m",
      "\u001b[1;31mTypeError\u001b[0m                                 Traceback (most recent call last)",
      "Cell \u001b[1;32mIn[17], line 9\u001b[0m\n\u001b[0;32m      7\u001b[0m         count_2010s\u001b[38;5;241m+\u001b[39m\u001b[38;5;241m=\u001b[39m\u001b[38;5;241m1\u001b[39m\n\u001b[0;32m      8\u001b[0m         f_2010s\u001b[38;5;241m.\u001b[39mwrite(\u001b[38;5;28mstr\u001b[39m(title)\u001b[38;5;241m+\u001b[39m\u001b[38;5;124m\"\u001b[39m\u001b[38;5;130;01m\\n\u001b[39;00m\u001b[38;5;124m\"\u001b[39m)     \n\u001b[1;32m----> 9\u001b[0m f_2010s\u001b[38;5;241m.\u001b[39mclosed()\n",
      "\u001b[1;31mTypeError\u001b[0m: 'bool' object is not callable"
     ]
    }
   ],
   "source": [
    "f_2010s = open(\"crossref_dois_2010s_titles_publisheddate.txt\", \"w\", encoding=\"utf-8\")\n",
    "count_2010s=0\n",
    "for i in range(len(json_data)):\n",
    "    title = json_data[i]['title']\n",
    "    year = json_data[i]['published']['date-parts'][0][0]\n",
    "    if year >= 2010 and year < 2020:\n",
    "        count_2010s+=1\n",
    "        f_2010s.write(str(title)+\"\\n\")     \n",
    "f_2010s.closed()"
   ]
  },
  {
   "cell_type": "code",
   "execution_count": 18,
   "id": "da655130-01ce-44c8-b843-826e1c6f053e",
   "metadata": {},
   "outputs": [
    {
     "name": "stdout",
     "output_type": "stream",
     "text": [
      "6531\n"
     ]
    }
   ],
   "source": [
    "print(count_2010s)"
   ]
  },
  {
   "cell_type": "code",
   "execution_count": null,
   "id": "a90f70ac-3789-4363-a7f0-5bc845bd2e4f",
   "metadata": {},
   "outputs": [],
   "source": []
  }
 ],
 "metadata": {
  "kernelspec": {
   "display_name": "Python 3 (ipykernel)",
   "language": "python",
   "name": "python3"
  },
  "language_info": {
   "codemirror_mode": {
    "name": "ipython",
    "version": 3
   },
   "file_extension": ".py",
   "mimetype": "text/x-python",
   "name": "python",
   "nbconvert_exporter": "python",
   "pygments_lexer": "ipython3",
   "version": "3.11.5"
  }
 },
 "nbformat": 4,
 "nbformat_minor": 5
}
