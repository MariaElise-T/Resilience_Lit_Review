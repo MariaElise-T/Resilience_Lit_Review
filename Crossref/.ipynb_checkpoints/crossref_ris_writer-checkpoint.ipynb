{
 "cells": [
  {
   "cell_type": "code",
   "execution_count": 58,
   "id": "b7b583b3-dd09-4689-a11f-36afaffe6e5a",
   "metadata": {},
   "outputs": [],
   "source": [
    "import pandas\n",
    "import rispy\n",
    "import re"
   ]
  },
  {
   "cell_type": "code",
   "execution_count": 59,
   "id": "fbaa47e2-aa48-43d4-902e-979c7c770b3f",
   "metadata": {},
   "outputs": [],
   "source": [
    "crossref = pandas.read_csv('C:/Users/met48/Downloads/crossref_alldata.csv', encoding='utf-8')"
   ]
  },
  {
   "cell_type": "markdown",
   "id": "b7d5ca34-982f-416d-bfec-d0d018d21a18",
   "metadata": {},
   "source": [
    "# All time periods"
   ]
  },
  {
   "cell_type": "code",
   "execution_count": 60,
   "id": "4d315501-7817-4df7-9efe-c276e93c3677",
   "metadata": {},
   "outputs": [],
   "source": [
    "entries = list()\n",
    "for index, row in crossref.iterrows():\n",
    "    title = re.sub(r'[^A-Za-z ]+', ' ', row['Title'])\n",
    "    abstract = re.sub(r'[^A-Za-z ]+', ' ', row['Abstract'])\n",
    "    entries.append({'type_of_reference': 'JOUR', 'primary_title': title.lower(), 'abstract': abstract.lower()})"
   ]
  },
  {
   "cell_type": "code",
   "execution_count": 61,
   "id": "73709518-a0da-47a8-b00b-80b23c2da424",
   "metadata": {},
   "outputs": [],
   "source": [
    "filepath = 'C:/Users/met48/Desktop/export_crossref_alltime.ris'\n",
    "with open(filepath, 'w') as bibliography_file:\n",
    "    rispy.dump(entries, bibliography_file)"
   ]
  },
  {
   "cell_type": "markdown",
   "id": "81c35c85-8f7a-461e-8b30-4303c0c38363",
   "metadata": {},
   "source": [
    "# Pre 2000"
   ]
  },
  {
   "cell_type": "code",
   "execution_count": 62,
   "id": "940d6eba-3155-4ca9-b9c2-963161f606d7",
   "metadata": {},
   "outputs": [],
   "source": [
    "crossref_pre2000 = crossref.loc[crossref['TimeCluster'] == '<2000']\n",
    "entries = list()\n",
    "for index, row in crossref_pre2000.iterrows():\n",
    "    title = re.sub(r'[^A-Za-z ]+', ' ', row['Title'])\n",
    "    abstract = re.sub(r'[^A-Za-z ]+', ' ', row['Abstract'])\n",
    "    entries.append({'type_of_reference': 'JOUR', 'primary_title': title.lower(), 'abstract': abstract.lower()})"
   ]
  },
  {
   "cell_type": "code",
   "execution_count": 63,
   "id": "4f06bc71-38a7-4b97-91fd-4f83b5722610",
   "metadata": {},
   "outputs": [],
   "source": [
    "filepath = 'C:/Users/met48/Desktop/export_crossref_pre2000.ris'\n",
    "with open(filepath, 'w') as bibliography_file:\n",
    "    rispy.dump(entries, bibliography_file)"
   ]
  },
  {
   "cell_type": "markdown",
   "id": "6b186e9d-9086-4d8c-9f1a-cd70e67ff5af",
   "metadata": {},
   "source": [
    "# 2000-2009"
   ]
  },
  {
   "cell_type": "code",
   "execution_count": 64,
   "id": "cc9a5965-32cc-45d9-a6df-663b558ab486",
   "metadata": {},
   "outputs": [],
   "source": [
    "crossref_2000s = crossref.loc[crossref['TimeCluster'] == '2000-09']\n",
    "entries = list()\n",
    "for index, row in crossref_2000s.iterrows():\n",
    "    title = re.sub(r'[^A-Za-z ]+', ' ', row['Title'])\n",
    "    abstract = re.sub(r'[^A-Za-z ]+', ' ', row['Abstract'])\n",
    "    entries.append({'type_of_reference': 'JOUR', 'primary_title': title.lower(), 'abstract': abstract.lower()})"
   ]
  },
  {
   "cell_type": "code",
   "execution_count": 65,
   "id": "2f42b477-b6a5-4e90-84d9-fd50ec7186df",
   "metadata": {},
   "outputs": [],
   "source": [
    "filepath = 'C:/Users/met48/Desktop/export_crossref_2000s.ris'\n",
    "with open(filepath, 'w') as bibliography_file:\n",
    "    rispy.dump(entries, bibliography_file)"
   ]
  },
  {
   "cell_type": "markdown",
   "id": "c07531d5-08ef-4352-93be-8cc97cf04a73",
   "metadata": {},
   "source": [
    "# 2010-2019"
   ]
  },
  {
   "cell_type": "code",
   "execution_count": 66,
   "id": "78f67a40-ca14-4c31-8832-a9dee07cb2b0",
   "metadata": {},
   "outputs": [],
   "source": [
    "crossref_2010s = crossref.loc[crossref['TimeCluster'] == '2010-19']\n",
    "entries = list()\n",
    "for index, row in crossref_2010s.iterrows():\n",
    "    title = re.sub(r'[^A-Za-z ]+', ' ', row['Title'])\n",
    "    abstract = re.sub(r'[^A-Za-z ]+', ' ', row['Abstract'])\n",
    "    entries.append({'type_of_reference': 'JOUR', 'primary_title': title.lower(), 'abstract': abstract.lower()})"
   ]
  },
  {
   "cell_type": "code",
   "execution_count": 67,
   "id": "b3fd825c-249a-40f0-8848-81b88f8bfafd",
   "metadata": {},
   "outputs": [],
   "source": [
    "filepath = 'C:/Users/met48/Desktop/export_crossref_2010s.ris'\n",
    "with open(filepath, 'w') as bibliography_file:\n",
    "    rispy.dump(entries, bibliography_file)"
   ]
  },
  {
   "cell_type": "markdown",
   "id": "ceeb70f6-2005-424d-84e5-899c7885cf7a",
   "metadata": {},
   "source": [
    "# 2020<="
   ]
  },
  {
   "cell_type": "code",
   "execution_count": 68,
   "id": "6023db7a-7121-4ec8-a439-38301e28892a",
   "metadata": {},
   "outputs": [],
   "source": [
    "crossref_2020s = crossref.loc[crossref['TimeCluster'] == '2020>']\n",
    "entries = list()\n",
    "for index, row in crossref_2020s.iterrows():\n",
    "    title = re.sub(r'[^A-Za-z ]+', ' ', row['Title'])\n",
    "    abstract = re.sub(r'[^A-Za-z ]+', ' ', row['Abstract'])\n",
    "    entries.append({'type_of_reference': 'JOUR', 'primary_title': title.lower(), 'abstract': abstract.lower()})"
   ]
  },
  {
   "cell_type": "code",
   "execution_count": 69,
   "id": "a49cbb7a-10a6-44a6-aafa-23fd358283f1",
   "metadata": {},
   "outputs": [],
   "source": [
    "filepath = 'C:/Users/met48/Desktop/export_crossref_2020s.ris'\n",
    "with open(filepath, 'w') as bibliography_file:\n",
    "    rispy.dump(entries, bibliography_file)"
   ]
  },
  {
   "cell_type": "code",
   "execution_count": null,
   "id": "8d68d91d-b8cc-4aef-ab87-12f849152ed3",
   "metadata": {},
   "outputs": [],
   "source": []
  },
  {
   "cell_type": "code",
   "execution_count": null,
   "id": "a65470ea-4299-4b1f-b548-cd90db6a9a9d",
   "metadata": {},
   "outputs": [],
   "source": []
  },
  {
   "cell_type": "code",
   "execution_count": null,
   "id": "07ba587f-6713-43d5-8ac1-6f188922b813",
   "metadata": {},
   "outputs": [],
   "source": []
  },
  {
   "cell_type": "code",
   "execution_count": null,
   "id": "fcad6294-e14e-4ef1-8ce9-9beef440263e",
   "metadata": {},
   "outputs": [],
   "source": []
  },
  {
   "cell_type": "code",
   "execution_count": null,
   "id": "23a1004b-29c5-400c-bf77-b9cca9269b97",
   "metadata": {},
   "outputs": [],
   "source": []
  },
  {
   "cell_type": "code",
   "execution_count": null,
   "id": "b342870f-c5f4-4c04-89b2-3e467fc07211",
   "metadata": {},
   "outputs": [],
   "source": []
  },
  {
   "cell_type": "code",
   "execution_count": null,
   "id": "f9dda3f4-0e17-4249-8554-018f829d3829",
   "metadata": {},
   "outputs": [],
   "source": []
  }
 ],
 "metadata": {
  "kernelspec": {
   "display_name": "Python 3 (ipykernel)",
   "language": "python",
   "name": "python3"
  },
  "language_info": {
   "codemirror_mode": {
    "name": "ipython",
    "version": 3
   },
   "file_extension": ".py",
   "mimetype": "text/x-python",
   "name": "python",
   "nbconvert_exporter": "python",
   "pygments_lexer": "ipython3",
   "version": "3.11.5"
  }
 },
 "nbformat": 4,
 "nbformat_minor": 5
}
