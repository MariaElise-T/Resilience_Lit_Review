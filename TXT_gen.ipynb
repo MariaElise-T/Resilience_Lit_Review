{
 "cells": [
  {
   "cell_type": "code",
   "execution_count": 6,
   "id": "0ecd8a7f",
   "metadata": {},
   "outputs": [],
   "source": [
    "import json\n",
    "import os"
   ]
  },
  {
   "cell_type": "code",
   "execution_count": 2,
   "id": "f28f7e39",
   "metadata": {},
   "outputs": [],
   "source": [
    "f = open('/Users/maria/crossref_has_abstract.json')\n",
    "data = json.load(f)"
   ]
  },
  {
   "cell_type": "code",
   "execution_count": 9,
   "id": "77dcd09b",
   "metadata": {},
   "outputs": [],
   "source": [
    "directory = \"/Users/maria/Desktop\"\n",
    "os.chdir(directory)"
   ]
  },
  {
   "cell_type": "code",
   "execution_count": 12,
   "id": "ce35a949",
   "metadata": {},
   "outputs": [],
   "source": [
    "i = 0\n",
    "filename_stem = \"crossref_abstract_\"\n",
    "for record in data[0:10]:\n",
    "    abstract = record['abstract']\n",
    "    filename = filename_stem+str(i)+'.txt'\n",
    "    f = open(filename, \"w\")\n",
    "    f.write(abstract)\n",
    "    f.close()\n",
    "    i = i+1 "
   ]
  },
  {
   "cell_type": "code",
   "execution_count": 3,
   "id": "47b1b122",
   "metadata": {},
   "outputs": [],
   "source": [
    "test = data[0]"
   ]
  },
  {
   "cell_type": "code",
   "execution_count": 5,
   "id": "9898dcda",
   "metadata": {},
   "outputs": [
    {
     "data": {
      "text/plain": [
       "'<jats:p>Mulheres líderes em todo o mundo enfrentam um desafio comum: tempos extremamente turbulentos, que desafiam até mesmo as/os líderes mais habilidosas(os). O artigo começa com uma breve visão geral do significado da resiliência da(o) líder e descreve o ciclo de resiliência que todas(os) as/os líderes experimentam quando ocorrem as adversidades. São cinco as fases do ciclo de resiliência discutidas: condições normais, fase de deterioração, fase de adaptação, fase de recuperação e fase de crescimento. Em seguida, o artigo traça o desenvolvimento dos dados revisados do Leader Resilience Profile® (LRP) que comparam e contrastam a resiliência da(o) líder por gênero e idade. Os resultados mostram claramente que a resiliência aumenta de forma confiável com a idade. Os participantes na faixa etária acima de 60 anos, em comparação com todas as outras faixas etárias combinadas, tiveram escores de resiliência significativamente mais altos. Na faixa etária de 20 a 29 anos, os homens apresentavam uma resistência mais alta do que as mulheres. Não houve diferenças de gênero confiáveis na resiliência nas outras categorias de idade. Os resultados são baseados em uma amostra relativamente pequena. Pesquisas adicionais devem ser conduzidas em amostras maiores em cada faixa etária. O artigo conclui abordando duas questões: Como a LRP pode ser usada em todos os países para avaliar a resiliência das mulheres líderes e como a LRP pode ser aplicada para desenvolver oportunidades de crescimento profissional para fortalecer a resiliência das mulheres líderes.</jats:p>'"
      ]
     },
     "execution_count": 5,
     "metadata": {},
     "output_type": "execute_result"
    }
   ],
   "source": [
    "test['abstract']"
   ]
  },
  {
   "cell_type": "code",
   "execution_count": null,
   "id": "8f2823be",
   "metadata": {},
   "outputs": [],
   "source": []
  }
 ],
 "metadata": {
  "kernelspec": {
   "display_name": "Python 3 (ipykernel)",
   "language": "python",
   "name": "python3"
  },
  "language_info": {
   "codemirror_mode": {
    "name": "ipython",
    "version": 3
   },
   "file_extension": ".py",
   "mimetype": "text/x-python",
   "name": "python",
   "nbconvert_exporter": "python",
   "pygments_lexer": "ipython3",
   "version": "3.10.9"
  }
 },
 "nbformat": 4,
 "nbformat_minor": 5
}
