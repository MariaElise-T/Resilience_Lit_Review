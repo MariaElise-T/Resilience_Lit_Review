{
 "cells": [
  {
   "cell_type": "code",
   "execution_count": 1,
   "id": "1dd25537",
   "metadata": {},
   "outputs": [],
   "source": [
    "from bs4 import BeautifulSoup\n",
    "from langdetect import detect\n",
    "import json\n",
    "import os"
   ]
  },
  {
   "cell_type": "code",
   "execution_count": 2,
   "id": "40c70667",
   "metadata": {},
   "outputs": [],
   "source": [
    "f = open('/Users/maria/Desktop/SCOPUS_api_search/scopus_1.json')\n",
    "data = json.load(f)"
   ]
  },
  {
   "cell_type": "code",
   "execution_count": 7,
   "id": "a78f28bb",
   "metadata": {},
   "outputs": [
    {
     "data": {
      "text/plain": [
       "25"
      ]
     },
     "execution_count": 7,
     "metadata": {},
     "output_type": "execute_result"
    }
   ],
   "source": [
    "len(data['search-results']['entry'])"
   ]
  },
  {
   "cell_type": "code",
   "execution_count": 8,
   "id": "b10e37ae",
   "metadata": {},
   "outputs": [
    {
     "data": {
      "text/plain": [
       "list"
      ]
     },
     "execution_count": 8,
     "metadata": {},
     "output_type": "execute_result"
    }
   ],
   "source": [
    "type(data['search-results']['entry'])"
   ]
  },
  {
   "cell_type": "code",
   "execution_count": 9,
   "id": "ca78e3d5",
   "metadata": {},
   "outputs": [],
   "source": [
    "scopus_merged = list()\n",
    "i=1\n",
    "while(i<3290):\n",
    "    filename='/Users/maria/Desktop/SCOPUS_api_search/scopus_'+str(i)+'.json'\n",
    "    f = open(filename)\n",
    "    data = json.load(f)\n",
    "    scopus_merged = scopus_merged + data['search-results']['entry']\n",
    "    i=i+1"
   ]
  },
  {
   "cell_type": "code",
   "execution_count": 10,
   "id": "53d1ff05",
   "metadata": {},
   "outputs": [
    {
     "data": {
      "text/plain": [
       "82221"
      ]
     },
     "execution_count": 10,
     "metadata": {},
     "output_type": "execute_result"
    }
   ],
   "source": [
    "len(scopus_merged)"
   ]
  },
  {
   "cell_type": "code",
   "execution_count": 11,
   "id": "85812ce5",
   "metadata": {},
   "outputs": [
    {
     "data": {
      "text/plain": [
       "{'@_fa': 'true',\n",
       " 'affiliation': [{'@_fa': 'true',\n",
       "   'affiliation-city': 'Taipei',\n",
       "   'affiliation-country': 'Taiwan',\n",
       "   'affiliation-url': 'https://api.elsevier.com/content/affiliation/affiliation_id/60022095',\n",
       "   'affilname': 'Taipei Medical University',\n",
       "   'afid': '60022095'},\n",
       "  {'@_fa': 'true',\n",
       "   'affiliation-city': 'Hsinchu',\n",
       "   'affiliation-country': 'Taiwan',\n",
       "   'affiliation-url': 'https://api.elsevier.com/content/affiliation/affiliation_id/60018029',\n",
       "   'affilname': 'National Tsing Hua University',\n",
       "   'afid': '60018029'},\n",
       "  {'@_fa': 'true',\n",
       "   'affiliation-city': 'Taichung',\n",
       "   'affiliation-country': 'Taiwan',\n",
       "   'affiliation-url': 'https://api.elsevier.com/content/affiliation/affiliation_id/60017511',\n",
       "   'affilname': 'National Chung Hsing University',\n",
       "   'afid': '60017511'},\n",
       "  {'@_fa': 'true',\n",
       "   'affiliation-city': 'Tainan',\n",
       "   'affiliation-country': 'Taiwan',\n",
       "   'affiliation-url': 'https://api.elsevier.com/content/affiliation/affiliation_id/60014982',\n",
       "   'affilname': 'National Cheng Kung University',\n",
       "   'afid': '60014982'}],\n",
       " 'article-number': '1669',\n",
       " 'author': [{'@_fa': 'true',\n",
       "   '@seq': '1',\n",
       "   'afid': [{'$': '60018029', '@_fa': 'true'},\n",
       "    {'$': '60018029', '@_fa': 'true'},\n",
       "    {'$': '60018029', '@_fa': 'true'},\n",
       "    {'$': '60018029', '@_fa': 'true'}],\n",
       "   'authid': '57206723132',\n",
       "   'authname': 'Yao Z.F.',\n",
       "   'author-url': 'https://api.elsevier.com/content/author/author_id/57206723132',\n",
       "   'given-name': 'Zai Fu',\n",
       "   'initials': 'Z.F.',\n",
       "   'surname': 'Yao'},\n",
       "  {'@_fa': 'true',\n",
       "   '@seq': '2',\n",
       "   'afid': [{'$': '60014982', '@_fa': 'true'}],\n",
       "   'authid': '57206732099',\n",
       "   'authname': 'Yang M.H.',\n",
       "   'author-url': 'https://api.elsevier.com/content/author/author_id/57206732099',\n",
       "   'given-name': 'Meng Heng',\n",
       "   'initials': 'M.H.',\n",
       "   'surname': 'Yang'},\n",
       "  {'@_fa': 'true',\n",
       "   '@seq': '3',\n",
       "   'afid': [{'$': '60022095', '@_fa': 'true'},\n",
       "    {'$': '60014982', '@_fa': 'true'}],\n",
       "   'authid': '56387726500',\n",
       "   'authname': 'Yang C.T.',\n",
       "   'author-url': 'https://api.elsevier.com/content/author/author_id/56387726500',\n",
       "   'given-name': 'Cheng Ta',\n",
       "   'initials': 'C.T.',\n",
       "   'surname': 'Yang'},\n",
       "  {'@_fa': 'true',\n",
       "   '@seq': '4',\n",
       "   'afid': [{'$': '60014982', '@_fa': 'true'},\n",
       "    {'$': '60014982', '@_fa': 'true'},\n",
       "    {'$': '60017511', '@_fa': 'true'}],\n",
       "   'authid': '58827062700',\n",
       "   'authname': 'Chang Y.H.',\n",
       "   'author-url': 'https://api.elsevier.com/content/author/author_id/58827062700',\n",
       "   'given-name': 'Yun Hsuan',\n",
       "   'initials': 'Y.H.',\n",
       "   'surname': 'Chang'},\n",
       "  {'@_fa': 'true',\n",
       "   '@seq': '5',\n",
       "   'afid': [{'$': '60014982', '@_fa': 'true'},\n",
       "    {'$': '60014982', '@_fa': 'true'},\n",
       "    {'$': '60014982', '@_fa': 'true'},\n",
       "    {'$': '60014982', '@_fa': 'true'}],\n",
       "   'authid': '7202057588',\n",
       "   'authname': 'Hsieh S.',\n",
       "   'author-url': 'https://api.elsevier.com/content/author/author_id/7202057588',\n",
       "   'given-name': 'Shulan',\n",
       "   'initials': 'S.',\n",
       "   'surname': 'Hsieh'}],\n",
       " 'author-count': {'$': '5', '@limit': '100', '@total': '5'},\n",
       " 'citedby-count': '0',\n",
       " 'dc:creator': 'Yao Z.F.',\n",
       " 'dc:description': \"Managing contradictions and building resilience help us overcome life's challenges. Here, we explored the link between attitudes towards contradictions and psychological resilience, examining the role of cortical conflict resolution networks. We enlisted 173 healthy young adults and used questionnaires to evaluate their cognitive thinking styles and resilience. They underwent structural and functional magnetic resonance imaging scans. Our results revealed that contrasting attitudes toward contradictions, formal logic, and naïve dialecticism thinking styles corresponded with varying degrees of resilience. We noted structural and functional differences in brain networks related to conflict resolution, including the inferior frontal and parietal cortices. The volumetric variations within cortical networks indicated right-hemispheric lateralization in different thinking styles. These findings highlight the potential links between conflict resolution and resilience in the frontoparietal network. We underscore the importance of frontoparietal brain networks for executive control in resolving conflicting information and regulating the impact of contradictions on psychological resilience.\",\n",
       " 'dc:identifier': 'SCOPUS_ID:85182856245',\n",
       " 'dc:title': 'The role of attitudes towards contradiction in psychological resilience: the cortical mechanism of conflicting resolution networks',\n",
       " 'eid': '2-s2.0-85182856245',\n",
       " 'freetoread': {'value': [{'$': 'all'}, {'$': 'publisherfullgold'}]},\n",
       " 'freetoreadLabel': {'value': [{'$': 'All Open Access'}, {'$': 'Gold'}]},\n",
       " 'fund-acr': 'MOE',\n",
       " 'fund-no': '108-2321-B-006-022-MY2',\n",
       " 'fund-sponsor': 'Ministry of Education',\n",
       " 'link': [{'@_fa': 'true',\n",
       "   '@href': 'https://api.elsevier.com/content/abstract/scopus_id/85182856245',\n",
       "   '@ref': 'self'},\n",
       "  {'@_fa': 'true',\n",
       "   '@href': 'https://api.elsevier.com/content/abstract/scopus_id/85182856245?field=author,affiliation',\n",
       "   '@ref': 'author-affiliation'},\n",
       "  {'@_fa': 'true',\n",
       "   '@href': 'https://www.scopus.com/inward/record.uri?partnerID=HzOxMe3b&scp=85182856245&origin=inward',\n",
       "   '@ref': 'scopus'},\n",
       "  {'@_fa': 'true',\n",
       "   '@href': 'https://www.scopus.com/inward/citedby.uri?partnerID=HzOxMe3b&scp=85182856245&origin=inward',\n",
       "   '@ref': 'scopus-citedby'}],\n",
       " 'openaccess': '1',\n",
       " 'openaccessFlag': True,\n",
       " 'prism:aggregationType': 'Journal',\n",
       " 'prism:coverDate': '2024-12-01',\n",
       " 'prism:coverDisplayDate': 'December 2024',\n",
       " 'prism:doi': '10.1038/s41598-024-51722-3',\n",
       " 'prism:eIssn': '20452322',\n",
       " 'prism:issueIdentifier': '1',\n",
       " 'prism:pageRange': None,\n",
       " 'prism:publicationName': 'Scientific Reports',\n",
       " 'prism:url': 'https://api.elsevier.com/content/abstract/scopus_id/85182856245',\n",
       " 'prism:volume': '14',\n",
       " 'pubmed-id': '38238421',\n",
       " 'source-id': '21100200805',\n",
       " 'subtype': 'ar',\n",
       " 'subtypeDescription': 'Article'}"
      ]
     },
     "execution_count": 11,
     "metadata": {},
     "output_type": "execute_result"
    }
   ],
   "source": [
    "scopus_merged[3]"
   ]
  },
  {
   "cell_type": "code",
   "execution_count": null,
   "id": "23e5f13e",
   "metadata": {},
   "outputs": [],
   "source": []
  }
 ],
 "metadata": {
  "kernelspec": {
   "display_name": "Python 3 (ipykernel)",
   "language": "python",
   "name": "python3"
  },
  "language_info": {
   "codemirror_mode": {
    "name": "ipython",
    "version": 3
   },
   "file_extension": ".py",
   "mimetype": "text/x-python",
   "name": "python",
   "nbconvert_exporter": "python",
   "pygments_lexer": "ipython3",
   "version": "3.10.9"
  }
 },
 "nbformat": 4,
 "nbformat_minor": 5
}
